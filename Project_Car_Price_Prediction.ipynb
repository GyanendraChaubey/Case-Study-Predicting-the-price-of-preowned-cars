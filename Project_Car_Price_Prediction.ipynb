{
  "nbformat": 4,
  "nbformat_minor": 0,
  "metadata": {
    "colab": {
      "name": "Project:: Car Price Prediction.ipynb",
      "provenance": [],
      "collapsed_sections": [],
      "mount_file_id": "1RVwQuI4usxSHi0tIOExWRQfd1Az2Bqxa",
      "authorship_tag": "ABX9TyORIDBhrc8bveI4OK4V5FIH",
      "include_colab_link": true
    },
    "kernelspec": {
      "display_name": "Python 3",
      "name": "python3"
    },
    "language_info": {
      "name": "python"
    }
  },
  "cells": [
    {
      "cell_type": "markdown",
      "metadata": {
        "id": "view-in-github",
        "colab_type": "text"
      },
      "source": [
        "<a href=\"https://colab.research.google.com/github/GyanendraChaubey/Case-Study-Predicting-the-price-of-preowned-cars/blob/master/Project_Car_Price_Prediction.ipynb\" target=\"_parent\"><img src=\"https://colab.research.google.com/assets/colab-badge.svg\" alt=\"Open In Colab\"/></a>"
      ]
    },
    {
      "cell_type": "markdown",
      "metadata": {
        "id": "qIXtBIvfvYyi"
      },
      "source": [
        "Linear Regression Problem:\n",
        "Predicting the Price of Pre-owned Cars"
      ]
    },
    {
      "cell_type": "code",
      "metadata": {
        "id": "flmsHIbHiSfZ"
      },
      "source": [
        "#Import necessary libraries\n",
        "import numpy as np\n",
        "import pandas as pd\n",
        "import matplotlib.pyplot as plt\n",
        "import seaborn as sns\n",
        "from sklearn.linear_model import LinearRegression\n",
        "from sklearn.model_selection import train_test_split\n",
        "from sklearn.metrics import mean_squared_error"
      ],
      "execution_count": null,
      "outputs": []
    },
    {
      "cell_type": "code",
      "metadata": {
        "id": "vh4BAzn7xEuI"
      },
      "source": [
        "#Reading data\n",
        "Carsdata=pd.read_csv(\"/content/drive/MyDrive/cars_sampled.csv\")"
      ],
      "execution_count": null,
      "outputs": []
    },
    {
      "cell_type": "code",
      "metadata": {
        "id": "5pnf5qIQxWHJ"
      },
      "source": [
        "#Create a copy of data\n",
        "cars=Carsdata.copy()"
      ],
      "execution_count": null,
      "outputs": []
    },
    {
      "cell_type": "code",
      "metadata": {
        "colab": {
          "base_uri": "https://localhost:8080/"
        },
        "id": "jXbeffyhxeO8",
        "outputId": "d72f7b3a-0058-4e1a-c662-e08cbe8067e4"
      },
      "source": [
        "#Structure of the data\n",
        "cars.info()"
      ],
      "execution_count": null,
      "outputs": [
        {
          "output_type": "stream",
          "name": "stdout",
          "text": [
            "<class 'pandas.core.frame.DataFrame'>\n",
            "RangeIndex: 50001 entries, 0 to 50000\n",
            "Data columns (total 19 columns):\n",
            " #   Column               Non-Null Count  Dtype \n",
            "---  ------               --------------  ----- \n",
            " 0   dateCrawled          50001 non-null  object\n",
            " 1   name                 50001 non-null  object\n",
            " 2   seller               50001 non-null  object\n",
            " 3   offerType            50001 non-null  object\n",
            " 4   price                50001 non-null  int64 \n",
            " 5   abtest               50001 non-null  object\n",
            " 6   vehicleType          44813 non-null  object\n",
            " 7   yearOfRegistration   50001 non-null  int64 \n",
            " 8   gearbox              47177 non-null  object\n",
            " 9   powerPS              50001 non-null  int64 \n",
            " 10  model                47243 non-null  object\n",
            " 11  kilometer            50001 non-null  int64 \n",
            " 12  monthOfRegistration  50001 non-null  int64 \n",
            " 13  fuelType             45498 non-null  object\n",
            " 14  brand                50001 non-null  object\n",
            " 15  notRepairedDamage    40285 non-null  object\n",
            " 16  dateCreated          50001 non-null  object\n",
            " 17  postalCode           50001 non-null  int64 \n",
            " 18  lastSeen             50001 non-null  object\n",
            "dtypes: int64(6), object(13)\n",
            "memory usage: 7.2+ MB\n"
          ]
        }
      ]
    },
    {
      "cell_type": "code",
      "metadata": {
        "colab": {
          "base_uri": "https://localhost:8080/",
          "height": 300
        },
        "id": "W-3maZz8xlrT",
        "outputId": "e71c7899-ac50-40aa-b728-aec16c9fadb8"
      },
      "source": [
        "#Summarize the data\n",
        "cars.describe()"
      ],
      "execution_count": null,
      "outputs": [
        {
          "output_type": "execute_result",
          "data": {
            "text/html": [
              "<div>\n",
              "<style scoped>\n",
              "    .dataframe tbody tr th:only-of-type {\n",
              "        vertical-align: middle;\n",
              "    }\n",
              "\n",
              "    .dataframe tbody tr th {\n",
              "        vertical-align: top;\n",
              "    }\n",
              "\n",
              "    .dataframe thead th {\n",
              "        text-align: right;\n",
              "    }\n",
              "</style>\n",
              "<table border=\"1\" class=\"dataframe\">\n",
              "  <thead>\n",
              "    <tr style=\"text-align: right;\">\n",
              "      <th></th>\n",
              "      <th>price</th>\n",
              "      <th>yearOfRegistration</th>\n",
              "      <th>powerPS</th>\n",
              "      <th>kilometer</th>\n",
              "      <th>monthOfRegistration</th>\n",
              "      <th>postalCode</th>\n",
              "    </tr>\n",
              "  </thead>\n",
              "  <tbody>\n",
              "    <tr>\n",
              "      <th>count</th>\n",
              "      <td>5.000100e+04</td>\n",
              "      <td>50001.000000</td>\n",
              "      <td>50001.000000</td>\n",
              "      <td>50001.000000</td>\n",
              "      <td>50001.000000</td>\n",
              "      <td>50001.000000</td>\n",
              "    </tr>\n",
              "    <tr>\n",
              "      <th>mean</th>\n",
              "      <td>6.559865e+03</td>\n",
              "      <td>2005.544229</td>\n",
              "      <td>116.496130</td>\n",
              "      <td>125613.687726</td>\n",
              "      <td>5.743725</td>\n",
              "      <td>50775.216696</td>\n",
              "    </tr>\n",
              "    <tr>\n",
              "      <th>std</th>\n",
              "      <td>8.581847e+04</td>\n",
              "      <td>122.991832</td>\n",
              "      <td>230.567709</td>\n",
              "      <td>40205.234483</td>\n",
              "      <td>3.711345</td>\n",
              "      <td>25743.701933</td>\n",
              "    </tr>\n",
              "    <tr>\n",
              "      <th>min</th>\n",
              "      <td>0.000000e+00</td>\n",
              "      <td>1000.000000</td>\n",
              "      <td>0.000000</td>\n",
              "      <td>5000.000000</td>\n",
              "      <td>0.000000</td>\n",
              "      <td>1067.000000</td>\n",
              "    </tr>\n",
              "    <tr>\n",
              "      <th>25%</th>\n",
              "      <td>1.150000e+03</td>\n",
              "      <td>1999.000000</td>\n",
              "      <td>69.000000</td>\n",
              "      <td>125000.000000</td>\n",
              "      <td>3.000000</td>\n",
              "      <td>30559.000000</td>\n",
              "    </tr>\n",
              "    <tr>\n",
              "      <th>50%</th>\n",
              "      <td>2.950000e+03</td>\n",
              "      <td>2003.000000</td>\n",
              "      <td>105.000000</td>\n",
              "      <td>150000.000000</td>\n",
              "      <td>6.000000</td>\n",
              "      <td>49504.000000</td>\n",
              "    </tr>\n",
              "    <tr>\n",
              "      <th>75%</th>\n",
              "      <td>7.190000e+03</td>\n",
              "      <td>2008.000000</td>\n",
              "      <td>150.000000</td>\n",
              "      <td>150000.000000</td>\n",
              "      <td>9.000000</td>\n",
              "      <td>71404.000000</td>\n",
              "    </tr>\n",
              "    <tr>\n",
              "      <th>max</th>\n",
              "      <td>1.234568e+07</td>\n",
              "      <td>9999.000000</td>\n",
              "      <td>19312.000000</td>\n",
              "      <td>150000.000000</td>\n",
              "      <td>12.000000</td>\n",
              "      <td>99998.000000</td>\n",
              "    </tr>\n",
              "  </tbody>\n",
              "</table>\n",
              "</div>"
            ],
            "text/plain": [
              "              price  yearOfRegistration  ...  monthOfRegistration    postalCode\n",
              "count  5.000100e+04        50001.000000  ...         50001.000000  50001.000000\n",
              "mean   6.559865e+03         2005.544229  ...             5.743725  50775.216696\n",
              "std    8.581847e+04          122.991832  ...             3.711345  25743.701933\n",
              "min    0.000000e+00         1000.000000  ...             0.000000   1067.000000\n",
              "25%    1.150000e+03         1999.000000  ...             3.000000  30559.000000\n",
              "50%    2.950000e+03         2003.000000  ...             6.000000  49504.000000\n",
              "75%    7.190000e+03         2008.000000  ...             9.000000  71404.000000\n",
              "max    1.234568e+07         9999.000000  ...            12.000000  99998.000000\n",
              "\n",
              "[8 rows x 6 columns]"
            ]
          },
          "metadata": {},
          "execution_count": 6
        }
      ]
    },
    {
      "cell_type": "code",
      "metadata": {
        "colab": {
          "base_uri": "https://localhost:8080/",
          "height": 300
        },
        "id": "XAjI44idx6N7",
        "outputId": "180d64d4-c28b-4a61-d090-509ae188f3d7"
      },
      "source": [
        "pd.set_option('display.float_format',lambda x: '%.3f' %x)\n",
        "cars.describe()"
      ],
      "execution_count": null,
      "outputs": [
        {
          "output_type": "execute_result",
          "data": {
            "text/html": [
              "<div>\n",
              "<style scoped>\n",
              "    .dataframe tbody tr th:only-of-type {\n",
              "        vertical-align: middle;\n",
              "    }\n",
              "\n",
              "    .dataframe tbody tr th {\n",
              "        vertical-align: top;\n",
              "    }\n",
              "\n",
              "    .dataframe thead th {\n",
              "        text-align: right;\n",
              "    }\n",
              "</style>\n",
              "<table border=\"1\" class=\"dataframe\">\n",
              "  <thead>\n",
              "    <tr style=\"text-align: right;\">\n",
              "      <th></th>\n",
              "      <th>price</th>\n",
              "      <th>yearOfRegistration</th>\n",
              "      <th>powerPS</th>\n",
              "      <th>kilometer</th>\n",
              "      <th>monthOfRegistration</th>\n",
              "      <th>postalCode</th>\n",
              "    </tr>\n",
              "  </thead>\n",
              "  <tbody>\n",
              "    <tr>\n",
              "      <th>count</th>\n",
              "      <td>50001.000</td>\n",
              "      <td>50001.000</td>\n",
              "      <td>50001.000</td>\n",
              "      <td>50001.000</td>\n",
              "      <td>50001.000</td>\n",
              "      <td>50001.000</td>\n",
              "    </tr>\n",
              "    <tr>\n",
              "      <th>mean</th>\n",
              "      <td>6559.865</td>\n",
              "      <td>2005.544</td>\n",
              "      <td>116.496</td>\n",
              "      <td>125613.688</td>\n",
              "      <td>5.744</td>\n",
              "      <td>50775.217</td>\n",
              "    </tr>\n",
              "    <tr>\n",
              "      <th>std</th>\n",
              "      <td>85818.470</td>\n",
              "      <td>122.992</td>\n",
              "      <td>230.568</td>\n",
              "      <td>40205.234</td>\n",
              "      <td>3.711</td>\n",
              "      <td>25743.702</td>\n",
              "    </tr>\n",
              "    <tr>\n",
              "      <th>min</th>\n",
              "      <td>0.000</td>\n",
              "      <td>1000.000</td>\n",
              "      <td>0.000</td>\n",
              "      <td>5000.000</td>\n",
              "      <td>0.000</td>\n",
              "      <td>1067.000</td>\n",
              "    </tr>\n",
              "    <tr>\n",
              "      <th>25%</th>\n",
              "      <td>1150.000</td>\n",
              "      <td>1999.000</td>\n",
              "      <td>69.000</td>\n",
              "      <td>125000.000</td>\n",
              "      <td>3.000</td>\n",
              "      <td>30559.000</td>\n",
              "    </tr>\n",
              "    <tr>\n",
              "      <th>50%</th>\n",
              "      <td>2950.000</td>\n",
              "      <td>2003.000</td>\n",
              "      <td>105.000</td>\n",
              "      <td>150000.000</td>\n",
              "      <td>6.000</td>\n",
              "      <td>49504.000</td>\n",
              "    </tr>\n",
              "    <tr>\n",
              "      <th>75%</th>\n",
              "      <td>7190.000</td>\n",
              "      <td>2008.000</td>\n",
              "      <td>150.000</td>\n",
              "      <td>150000.000</td>\n",
              "      <td>9.000</td>\n",
              "      <td>71404.000</td>\n",
              "    </tr>\n",
              "    <tr>\n",
              "      <th>max</th>\n",
              "      <td>12345678.000</td>\n",
              "      <td>9999.000</td>\n",
              "      <td>19312.000</td>\n",
              "      <td>150000.000</td>\n",
              "      <td>12.000</td>\n",
              "      <td>99998.000</td>\n",
              "    </tr>\n",
              "  </tbody>\n",
              "</table>\n",
              "</div>"
            ],
            "text/plain": [
              "             price  yearOfRegistration  ...  monthOfRegistration  postalCode\n",
              "count    50001.000           50001.000  ...            50001.000   50001.000\n",
              "mean      6559.865            2005.544  ...                5.744   50775.217\n",
              "std      85818.470             122.992  ...                3.711   25743.702\n",
              "min          0.000            1000.000  ...                0.000    1067.000\n",
              "25%       1150.000            1999.000  ...                3.000   30559.000\n",
              "50%       2950.000            2003.000  ...                6.000   49504.000\n",
              "75%       7190.000            2008.000  ...                9.000   71404.000\n",
              "max   12345678.000            9999.000  ...               12.000   99998.000\n",
              "\n",
              "[8 rows x 6 columns]"
            ]
          },
          "metadata": {},
          "execution_count": 7
        }
      ]
    },
    {
      "cell_type": "code",
      "metadata": {
        "colab": {
          "base_uri": "https://localhost:8080/",
          "height": 313
        },
        "id": "369t6vQiyPYh",
        "outputId": "8dad0461-2bd0-41f8-fec1-51225020720f"
      },
      "source": [
        "#Viewing head of data\n",
        "cars.head()"
      ],
      "execution_count": null,
      "outputs": [
        {
          "output_type": "execute_result",
          "data": {
            "text/html": [
              "<div>\n",
              "<style scoped>\n",
              "    .dataframe tbody tr th:only-of-type {\n",
              "        vertical-align: middle;\n",
              "    }\n",
              "\n",
              "    .dataframe tbody tr th {\n",
              "        vertical-align: top;\n",
              "    }\n",
              "\n",
              "    .dataframe thead th {\n",
              "        text-align: right;\n",
              "    }\n",
              "</style>\n",
              "<table border=\"1\" class=\"dataframe\">\n",
              "  <thead>\n",
              "    <tr style=\"text-align: right;\">\n",
              "      <th></th>\n",
              "      <th>dateCrawled</th>\n",
              "      <th>name</th>\n",
              "      <th>seller</th>\n",
              "      <th>offerType</th>\n",
              "      <th>price</th>\n",
              "      <th>abtest</th>\n",
              "      <th>vehicleType</th>\n",
              "      <th>yearOfRegistration</th>\n",
              "      <th>gearbox</th>\n",
              "      <th>powerPS</th>\n",
              "      <th>model</th>\n",
              "      <th>kilometer</th>\n",
              "      <th>monthOfRegistration</th>\n",
              "      <th>fuelType</th>\n",
              "      <th>brand</th>\n",
              "      <th>notRepairedDamage</th>\n",
              "      <th>dateCreated</th>\n",
              "      <th>postalCode</th>\n",
              "      <th>lastSeen</th>\n",
              "    </tr>\n",
              "  </thead>\n",
              "  <tbody>\n",
              "    <tr>\n",
              "      <th>0</th>\n",
              "      <td>30/03/2016 13:51</td>\n",
              "      <td>Zu_verkaufen</td>\n",
              "      <td>private</td>\n",
              "      <td>offer</td>\n",
              "      <td>4450</td>\n",
              "      <td>test</td>\n",
              "      <td>limousine</td>\n",
              "      <td>2003</td>\n",
              "      <td>manual</td>\n",
              "      <td>150</td>\n",
              "      <td>3er</td>\n",
              "      <td>150000</td>\n",
              "      <td>3</td>\n",
              "      <td>diesel</td>\n",
              "      <td>bmw</td>\n",
              "      <td>NaN</td>\n",
              "      <td>30/03/2016 0:00</td>\n",
              "      <td>20257</td>\n",
              "      <td>7/4/2016 4:44</td>\n",
              "    </tr>\n",
              "    <tr>\n",
              "      <th>1</th>\n",
              "      <td>7/3/2016 9:54</td>\n",
              "      <td>Volvo_XC90_2.4D_Summum</td>\n",
              "      <td>private</td>\n",
              "      <td>offer</td>\n",
              "      <td>13299</td>\n",
              "      <td>control</td>\n",
              "      <td>suv</td>\n",
              "      <td>2005</td>\n",
              "      <td>manual</td>\n",
              "      <td>163</td>\n",
              "      <td>xc_reihe</td>\n",
              "      <td>150000</td>\n",
              "      <td>6</td>\n",
              "      <td>diesel</td>\n",
              "      <td>volvo</td>\n",
              "      <td>no</td>\n",
              "      <td>7/3/2016 0:00</td>\n",
              "      <td>88045</td>\n",
              "      <td>26/03/2016 13:17</td>\n",
              "    </tr>\n",
              "    <tr>\n",
              "      <th>2</th>\n",
              "      <td>1/4/2016 0:57</td>\n",
              "      <td>Volkswagen_Touran</td>\n",
              "      <td>private</td>\n",
              "      <td>offer</td>\n",
              "      <td>3200</td>\n",
              "      <td>test</td>\n",
              "      <td>bus</td>\n",
              "      <td>2003</td>\n",
              "      <td>manual</td>\n",
              "      <td>101</td>\n",
              "      <td>touran</td>\n",
              "      <td>150000</td>\n",
              "      <td>11</td>\n",
              "      <td>diesel</td>\n",
              "      <td>volkswagen</td>\n",
              "      <td>NaN</td>\n",
              "      <td>31/03/2016 0:00</td>\n",
              "      <td>27449</td>\n",
              "      <td>1/4/2016 8:40</td>\n",
              "    </tr>\n",
              "    <tr>\n",
              "      <th>3</th>\n",
              "      <td>19/03/2016 17:50</td>\n",
              "      <td>Seat_Ibiza_1.4_16V_Reference</td>\n",
              "      <td>private</td>\n",
              "      <td>offer</td>\n",
              "      <td>4500</td>\n",
              "      <td>control</td>\n",
              "      <td>small car</td>\n",
              "      <td>2006</td>\n",
              "      <td>manual</td>\n",
              "      <td>86</td>\n",
              "      <td>ibiza</td>\n",
              "      <td>60000</td>\n",
              "      <td>12</td>\n",
              "      <td>petrol</td>\n",
              "      <td>seat</td>\n",
              "      <td>no</td>\n",
              "      <td>19/03/2016 0:00</td>\n",
              "      <td>34537</td>\n",
              "      <td>7/4/2016 4:44</td>\n",
              "    </tr>\n",
              "    <tr>\n",
              "      <th>4</th>\n",
              "      <td>16/03/2016 14:51</td>\n",
              "      <td>Volvo_XC90_D5_Aut._RDesign_R_Design_AWD_GSHD_S...</td>\n",
              "      <td>private</td>\n",
              "      <td>offer</td>\n",
              "      <td>18750</td>\n",
              "      <td>test</td>\n",
              "      <td>suv</td>\n",
              "      <td>2008</td>\n",
              "      <td>automatic</td>\n",
              "      <td>185</td>\n",
              "      <td>xc_reihe</td>\n",
              "      <td>150000</td>\n",
              "      <td>11</td>\n",
              "      <td>diesel</td>\n",
              "      <td>volvo</td>\n",
              "      <td>no</td>\n",
              "      <td>16/03/2016 0:00</td>\n",
              "      <td>55270</td>\n",
              "      <td>1/4/2016 23:18</td>\n",
              "    </tr>\n",
              "  </tbody>\n",
              "</table>\n",
              "</div>"
            ],
            "text/plain": [
              "        dateCrawled  ...          lastSeen\n",
              "0  30/03/2016 13:51  ...     7/4/2016 4:44\n",
              "1     7/3/2016 9:54  ...  26/03/2016 13:17\n",
              "2     1/4/2016 0:57  ...     1/4/2016 8:40\n",
              "3  19/03/2016 17:50  ...     7/4/2016 4:44\n",
              "4  16/03/2016 14:51  ...    1/4/2016 23:18\n",
              "\n",
              "[5 rows x 19 columns]"
            ]
          },
          "metadata": {},
          "execution_count": 8
        }
      ]
    },
    {
      "cell_type": "code",
      "metadata": {
        "id": "vlsbuWdpyaGF"
      },
      "source": [
        "#Drop the unwanted columns\n",
        "col=['name','dateCrawled','dateCreated','postalCode','lastSeen']\n",
        "cars=cars.drop(columns=col,axis=1)"
      ],
      "execution_count": null,
      "outputs": []
    },
    {
      "cell_type": "code",
      "metadata": {
        "colab": {
          "base_uri": "https://localhost:8080/",
          "height": 243
        },
        "id": "RfTbVeqQzLXB",
        "outputId": "eac5a63a-f646-4a79-bc4d-c0874e147c43"
      },
      "source": [
        "#Tail of data\n",
        "cars.tail()"
      ],
      "execution_count": null,
      "outputs": [
        {
          "output_type": "execute_result",
          "data": {
            "text/html": [
              "<div>\n",
              "<style scoped>\n",
              "    .dataframe tbody tr th:only-of-type {\n",
              "        vertical-align: middle;\n",
              "    }\n",
              "\n",
              "    .dataframe tbody tr th {\n",
              "        vertical-align: top;\n",
              "    }\n",
              "\n",
              "    .dataframe thead th {\n",
              "        text-align: right;\n",
              "    }\n",
              "</style>\n",
              "<table border=\"1\" class=\"dataframe\">\n",
              "  <thead>\n",
              "    <tr style=\"text-align: right;\">\n",
              "      <th></th>\n",
              "      <th>seller</th>\n",
              "      <th>offerType</th>\n",
              "      <th>price</th>\n",
              "      <th>abtest</th>\n",
              "      <th>vehicleType</th>\n",
              "      <th>yearOfRegistration</th>\n",
              "      <th>gearbox</th>\n",
              "      <th>powerPS</th>\n",
              "      <th>model</th>\n",
              "      <th>kilometer</th>\n",
              "      <th>monthOfRegistration</th>\n",
              "      <th>fuelType</th>\n",
              "      <th>brand</th>\n",
              "      <th>notRepairedDamage</th>\n",
              "    </tr>\n",
              "  </thead>\n",
              "  <tbody>\n",
              "    <tr>\n",
              "      <th>49996</th>\n",
              "      <td>private</td>\n",
              "      <td>request</td>\n",
              "      <td>0</td>\n",
              "      <td>test</td>\n",
              "      <td>bus</td>\n",
              "      <td>2005</td>\n",
              "      <td>NaN</td>\n",
              "      <td>0</td>\n",
              "      <td>transporter</td>\n",
              "      <td>150000</td>\n",
              "      <td>0</td>\n",
              "      <td>NaN</td>\n",
              "      <td>volkswagen</td>\n",
              "      <td>NaN</td>\n",
              "    </tr>\n",
              "    <tr>\n",
              "      <th>49997</th>\n",
              "      <td>private</td>\n",
              "      <td>request</td>\n",
              "      <td>19999</td>\n",
              "      <td>control</td>\n",
              "      <td>NaN</td>\n",
              "      <td>1990</td>\n",
              "      <td>NaN</td>\n",
              "      <td>0</td>\n",
              "      <td>golf</td>\n",
              "      <td>5000</td>\n",
              "      <td>0</td>\n",
              "      <td>NaN</td>\n",
              "      <td>volkswagen</td>\n",
              "      <td>NaN</td>\n",
              "    </tr>\n",
              "    <tr>\n",
              "      <th>49998</th>\n",
              "      <td>private</td>\n",
              "      <td>request</td>\n",
              "      <td>0</td>\n",
              "      <td>test</td>\n",
              "      <td>coupe</td>\n",
              "      <td>2004</td>\n",
              "      <td>manual</td>\n",
              "      <td>0</td>\n",
              "      <td>3er</td>\n",
              "      <td>150000</td>\n",
              "      <td>1</td>\n",
              "      <td>petrol</td>\n",
              "      <td>bmw</td>\n",
              "      <td>no</td>\n",
              "    </tr>\n",
              "    <tr>\n",
              "      <th>49999</th>\n",
              "      <td>commercial</td>\n",
              "      <td>offer</td>\n",
              "      <td>100</td>\n",
              "      <td>control</td>\n",
              "      <td>station wagon</td>\n",
              "      <td>2000</td>\n",
              "      <td>manual</td>\n",
              "      <td>0</td>\n",
              "      <td>megane</td>\n",
              "      <td>150000</td>\n",
              "      <td>8</td>\n",
              "      <td>petrol</td>\n",
              "      <td>renault</td>\n",
              "      <td>NaN</td>\n",
              "    </tr>\n",
              "    <tr>\n",
              "      <th>50000</th>\n",
              "      <td>commercial</td>\n",
              "      <td>offer</td>\n",
              "      <td>1100</td>\n",
              "      <td>test</td>\n",
              "      <td>small car</td>\n",
              "      <td>2006</td>\n",
              "      <td>manual</td>\n",
              "      <td>38</td>\n",
              "      <td>matiz</td>\n",
              "      <td>150000</td>\n",
              "      <td>10</td>\n",
              "      <td>petrol</td>\n",
              "      <td>chevrolet</td>\n",
              "      <td>no</td>\n",
              "    </tr>\n",
              "  </tbody>\n",
              "</table>\n",
              "</div>"
            ],
            "text/plain": [
              "           seller offerType  price  ... fuelType       brand  notRepairedDamage\n",
              "49996     private   request      0  ...      NaN  volkswagen                NaN\n",
              "49997     private   request  19999  ...      NaN  volkswagen                NaN\n",
              "49998     private   request      0  ...   petrol         bmw                 no\n",
              "49999  commercial     offer    100  ...   petrol     renault                NaN\n",
              "50000  commercial     offer   1100  ...   petrol   chevrolet                 no\n",
              "\n",
              "[5 rows x 14 columns]"
            ]
          },
          "metadata": {},
          "execution_count": 10
        }
      ]
    },
    {
      "cell_type": "code",
      "metadata": {
        "colab": {
          "base_uri": "https://localhost:8080/"
        },
        "id": "dcefB3TXzPy_",
        "outputId": "079151ae-56e5-473f-c96d-fefad05f8328"
      },
      "source": [
        "#Data Clearning\n",
        "#Missing values in Data\n",
        "cars.isnull().sum()"
      ],
      "execution_count": null,
      "outputs": [
        {
          "output_type": "execute_result",
          "data": {
            "text/plain": [
              "seller                    0\n",
              "offerType                 0\n",
              "price                     0\n",
              "abtest                    0\n",
              "vehicleType            5188\n",
              "yearOfRegistration        0\n",
              "gearbox                2824\n",
              "powerPS                   0\n",
              "model                  2758\n",
              "kilometer                 0\n",
              "monthOfRegistration       0\n",
              "fuelType               4503\n",
              "brand                     0\n",
              "notRepairedDamage      9716\n",
              "dtype: int64"
            ]
          },
          "metadata": {},
          "execution_count": 11
        }
      ]
    },
    {
      "cell_type": "code",
      "metadata": {
        "colab": {
          "base_uri": "https://localhost:8080/",
          "height": 566
        },
        "id": "4dr4IULdzoSL",
        "outputId": "caa79fb2-2ef3-4dad-88c2-613a93b8aea3"
      },
      "source": [
        "#Variable yearOfRegistration\n",
        "yearwise_count=cars['yearOfRegistration'].value_counts().sort_index()\n",
        "print(yearwise_count)\n",
        "print(sum(cars['yearOfRegistration']>2018))\n",
        "print(sum(cars['yearOfRegistration']<1950))\n",
        "sns.regplot(x='yearOfRegistration',y='price',scatter=True,fit_reg=True,data=cars)\n",
        "#Working Range is 1950 to 2018"
      ],
      "execution_count": null,
      "outputs": [
        {
          "output_type": "stream",
          "name": "stdout",
          "text": [
            "1000     6\n",
            "1255     1\n",
            "1500     2\n",
            "1910    15\n",
            "1928     1\n",
            "        ..\n",
            "7500     1\n",
            "7800     1\n",
            "8500     1\n",
            "8888     2\n",
            "9999     7\n",
            "Name: yearOfRegistration, Length: 97, dtype: int64\n",
            "26\n",
            "39\n"
          ]
        },
        {
          "output_type": "execute_result",
          "data": {
            "text/plain": [
              "<matplotlib.axes._subplots.AxesSubplot at 0x7fbb9424d590>"
            ]
          },
          "metadata": {},
          "execution_count": 12
        },
        {
          "output_type": "display_data",
          "data": {
            "image/png": "[encoded data removed]",
            "text/plain": [
              "<Figure size 432x288 with 1 Axes>"
            ]
          },
          "metadata": {
            "needs_background": "light"
          }
        }
      ]
    },
    {
      "cell_type": "code",
      "metadata": {
        "colab": {
          "base_uri": "https://localhost:8080/"
        },
        "id": "uaAE4rYO0faO",
        "outputId": "1c3b8033-dad7-4d84-f197-25a14c105146"
      },
      "source": [
        "#varibale Price\n",
        "price_count = cars['price'].value_counts().sort_index()\n",
        "print(price_count)\n"
      ],
      "execution_count": null,
      "outputs": [
        {
          "output_type": "stream",
          "name": "stdout",
          "text": [
            "0           1451\n",
            "1            172\n",
            "2              1\n",
            "3              1\n",
            "5              4\n",
            "            ... \n",
            "1250000        1\n",
            "2795000        1\n",
            "9999999        1\n",
            "10010011       1\n",
            "12345678       1\n",
            "Name: price, Length: 2393, dtype: int64\n"
          ]
        }
      ]
    },
    {
      "cell_type": "code",
      "metadata": {
        "colab": {
          "base_uri": "https://localhost:8080/",
          "height": 365
        },
        "id": "g-3TmJub12dK",
        "outputId": "2e0a4112-0a55-41d7-ebbc-db3338d02416"
      },
      "source": [
        "sns.distplot(cars['price'])\n"
      ],
      "execution_count": null,
      "outputs": [
        {
          "output_type": "stream",
          "name": "stderr",
          "text": [
            "/usr/local/lib/python3.7/dist-packages/seaborn/distributions.py:2619: FutureWarning: `distplot` is a deprecated function and will be removed in a future version. Please adapt your code to use either `displot` (a figure-level function with similar flexibility) or `histplot` (an axes-level function for histograms).\n",
            "  warnings.warn(msg, FutureWarning)\n"
          ]
        },
        {
          "output_type": "execute_result",
          "data": {
            "text/plain": [
              "<matplotlib.axes._subplots.AxesSubplot at 0x7fbb8724cc10>"
            ]
          },
          "metadata": {},
          "execution_count": 14
        },
        {
          "output_type": "display_data",
          "data": {
            "image/png": "[encoded data removed]",
            "text/plain": [
              "<Figure size 432x288 with 1 Axes>"
            ]
          },
          "metadata": {
            "needs_background": "light"
          }
        }
      ]
    },
    {
      "cell_type": "code",
      "metadata": {
        "colab": {
          "base_uri": "https://localhost:8080/"
        },
        "id": "Ku0o8L4z2Nct",
        "outputId": "46a38f77-72a5-470b-edb1-ef8229e272ff"
      },
      "source": [
        "cars['price'].describe()\n"
      ],
      "execution_count": null,
      "outputs": [
        {
          "output_type": "execute_result",
          "data": {
            "text/plain": [
              "count      50001.000\n",
              "mean        6559.865\n",
              "std        85818.470\n",
              "min            0.000\n",
              "25%         1150.000\n",
              "50%         2950.000\n",
              "75%         7190.000\n",
              "max     12345678.000\n",
              "Name: price, dtype: float64"
            ]
          },
          "metadata": {},
          "execution_count": 15
        }
      ]
    },
    {
      "cell_type": "code",
      "metadata": {
        "colab": {
          "base_uri": "https://localhost:8080/",
          "height": 281
        },
        "id": "nO28C59s2WBX",
        "outputId": "a0a0449c-c82b-4cf8-da4f-dceb4e80efe2"
      },
      "source": [
        "sns.boxplot(y=cars['price'])\n"
      ],
      "execution_count": null,
      "outputs": [
        {
          "output_type": "execute_result",
          "data": {
            "text/plain": [
              "<matplotlib.axes._subplots.AxesSubplot at 0x7fbb8720f5d0>"
            ]
          },
          "metadata": {},
          "execution_count": 16
        },
        {
          "output_type": "display_data",
          "data": {
            "image/png": "[encoded data removed]",
            "text/plain": [
              "<Figure size 432x288 with 1 Axes>"
            ]
          },
          "metadata": {
            "needs_background": "light"
          }
        }
      ]
    },
    {
      "cell_type": "code",
      "metadata": {
        "colab": {
          "base_uri": "https://localhost:8080/"
        },
        "id": "q9ehdFVs2Z2u",
        "outputId": "b2f59d5e-8eba-4bee-fb81-a6cf9baa50c2"
      },
      "source": [
        "print(sum(cars['price']>15000))\n",
        "print(sum(cars['price']<100))\n",
        "#working range"
      ],
      "execution_count": null,
      "outputs": [
        {
          "output_type": "stream",
          "name": "stdout",
          "text": [
            "4273\n",
            "1784\n"
          ]
        }
      ]
    },
    {
      "cell_type": "code",
      "metadata": {
        "colab": {
          "base_uri": "https://localhost:8080/"
        },
        "id": "UBu3aiSt2bRV",
        "outputId": "9089e0a8-45c2-4ec5-ca66-7d9ddc457f10"
      },
      "source": [
        "#Varibale PowerPS\n",
        "power_count = cars['powerPS'].value_counts().sort_index()\n",
        "power_count"
      ],
      "execution_count": null,
      "outputs": [
        {
          "output_type": "execute_result",
          "data": {
            "text/plain": [
              "0        5605\n",
              "1           3\n",
              "2           2\n",
              "3           2\n",
              "4           4\n",
              "         ... \n",
              "15033       1\n",
              "16011       1\n",
              "16312       1\n",
              "19211       1\n",
              "19312       1\n",
              "Name: powerPS, Length: 460, dtype: int64"
            ]
          },
          "metadata": {},
          "execution_count": 18
        }
      ]
    },
    {
      "cell_type": "code",
      "metadata": {
        "colab": {
          "base_uri": "https://localhost:8080/",
          "height": 354
        },
        "id": "q_vYgVUR2xW7",
        "outputId": "da75ee90-82b0-4786-c82b-cb919f43c857"
      },
      "source": [
        "sns.distplot(cars['powerPS'])"
      ],
      "execution_count": null,
      "outputs": [
        {
          "output_type": "stream",
          "name": "stderr",
          "text": [
            "/usr/local/lib/python3.7/dist-packages/seaborn/distributions.py:2619: FutureWarning: `distplot` is a deprecated function and will be removed in a future version. Please adapt your code to use either `displot` (a figure-level function with similar flexibility) or `histplot` (an axes-level function for histograms).\n",
            "  warnings.warn(msg, FutureWarning)\n"
          ]
        },
        {
          "output_type": "execute_result",
          "data": {
            "text/plain": [
              "<matplotlib.axes._subplots.AxesSubplot at 0x7fbb8511fd10>"
            ]
          },
          "metadata": {},
          "execution_count": 19
        },
        {
          "output_type": "display_data",
          "data": {
            "image/png": "[encoded data removed]",
            "text/plain": [
              "<Figure size 432x288 with 1 Axes>"
            ]
          },
          "metadata": {
            "needs_background": "light"
          }
        }
      ]
    },
    {
      "cell_type": "code",
      "metadata": {
        "colab": {
          "base_uri": "https://localhost:8080/"
        },
        "id": "GEN4Mmrv3Wr6",
        "outputId": "75bd2c88-cbd6-477f-c0ce-0c7ed664dfb2"
      },
      "source": [
        "cars['powerPS'].describe()"
      ],
      "execution_count": null,
      "outputs": [
        {
          "output_type": "execute_result",
          "data": {
            "text/plain": [
              "count   50001.000\n",
              "mean      116.496\n",
              "std       230.568\n",
              "min         0.000\n",
              "25%        69.000\n",
              "50%       105.000\n",
              "75%       150.000\n",
              "max     19312.000\n",
              "Name: powerPS, dtype: float64"
            ]
          },
          "metadata": {},
          "execution_count": 20
        }
      ]
    },
    {
      "cell_type": "code",
      "metadata": {
        "colab": {
          "base_uri": "https://localhost:8080/",
          "height": 271
        },
        "id": "7yVayZc03e5L",
        "outputId": "ecf9a294-ad39-4ece-d016-b1a01775be79"
      },
      "source": [
        "sns.boxplot(y=cars['powerPS'])"
      ],
      "execution_count": null,
      "outputs": [
        {
          "output_type": "execute_result",
          "data": {
            "text/plain": [
              "<matplotlib.axes._subplots.AxesSubplot at 0x7fbb84ff3a90>"
            ]
          },
          "metadata": {},
          "execution_count": 21
        },
        {
          "output_type": "display_data",
          "data": {
            "image/png": "[encoded data removed]",
            "text/plain": [
              "<Figure size 432x288 with 1 Axes>"
            ]
          },
          "metadata": {
            "needs_background": "light"
          }
        }
      ]
    },
    {
      "cell_type": "code",
      "metadata": {
        "colab": {
          "base_uri": "https://localhost:8080/",
          "height": 308
        },
        "id": "L6hcbMvG3npK",
        "outputId": "306600ba-07b1-49c3-9fd6-fc3cd4405b7e"
      },
      "source": [
        "sns.regplot(x='powerPS',y='price',scatter=True,fit_reg=True,data=cars)"
      ],
      "execution_count": null,
      "outputs": [
        {
          "output_type": "execute_result",
          "data": {
            "text/plain": [
              "<matplotlib.axes._subplots.AxesSubplot at 0x7fbb84f60c90>"
            ]
          },
          "metadata": {},
          "execution_count": 22
        },
        {
          "output_type": "display_data",
          "data": {
            "image/png": "[encoded data removed]",
            "text/plain": [
              "<Figure size 432x288 with 1 Axes>"
            ]
          },
          "metadata": {
            "needs_background": "light"
          }
        }
      ]
    },
    {
      "cell_type": "code",
      "metadata": {
        "colab": {
          "base_uri": "https://localhost:8080/"
        },
        "id": "BcOp-I3333Rf",
        "outputId": "9a848556-59e9-4fc1-cdc6-c4ab9b90d780"
      },
      "source": [
        "print(sum(cars['powerPS']>500))\n",
        "print(sum(cars['powerPS']<30))"
      ],
      "execution_count": null,
      "outputs": [
        {
          "output_type": "stream",
          "name": "stdout",
          "text": [
            "115\n",
            "5734\n"
          ]
        }
      ]
    },
    {
      "cell_type": "code",
      "metadata": {
        "colab": {
          "base_uri": "https://localhost:8080/"
        },
        "id": "nhRckFKm4IRA",
        "outputId": "eb879197-bd74-4148-d667-b4ef7948fbb8"
      },
      "source": [
        "#Working Range of Data\n",
        "cars=cars[\n",
        "          (\n",
        "              (cars.yearOfRegistration <=2018)\n",
        "             & (cars.yearOfRegistration >=1950)\n",
        "             & (cars.price >=100)\n",
        "             & (cars.price<=15000)\n",
        "             & (cars.powerPS>=10)\n",
        "             & (cars.powerPS<=500)\n",
        "          )\n",
        "]\n",
        "cars.shape\n",
        "#-10887 records are droped"
      ],
      "execution_count": null,
      "outputs": [
        {
          "output_type": "execute_result",
          "data": {
            "text/plain": [
              "(39114, 14)"
            ]
          },
          "metadata": {},
          "execution_count": 24
        }
      ]
    },
    {
      "cell_type": "code",
      "metadata": {
        "id": "kvvzFQQE5EN5"
      },
      "source": [
        "#Further to simplify - variable reduction\n",
        "#combining yearofRegistration and monthOfRegistration\n",
        "cars['monthOfRegistration']/=12"
      ],
      "execution_count": null,
      "outputs": []
    },
    {
      "cell_type": "code",
      "metadata": {
        "colab": {
          "base_uri": "https://localhost:8080/"
        },
        "id": "-vi6KTBm8cBL",
        "outputId": "6b02b334-a679-4fbf-f366-b0fbfc884b87"
      },
      "source": [
        "#Creating a new varibale Age by adding yearOfRegistration and MonthOfRegistration\n",
        "cars['Age']=(2018-cars['yearOfRegistration'])+cars['monthOfRegistration']\n",
        "cars['Age']=round(cars['Age'],2)\n",
        "cars['Age'].describe()"
      ],
      "execution_count": null,
      "outputs": [
        {
          "output_type": "execute_result",
          "data": {
            "text/plain": [
              "count   39114.000\n",
              "mean       15.438\n",
              "std         6.726\n",
              "min         0.000\n",
              "25%        11.420\n",
              "50%        15.500\n",
              "75%        19.500\n",
              "max        67.250\n",
              "Name: Age, dtype: float64"
            ]
          },
          "metadata": {},
          "execution_count": 26
        }
      ]
    },
    {
      "cell_type": "code",
      "metadata": {
        "id": "GHZfAZ3d9PNP"
      },
      "source": [
        "#Dropping yearOfRegistration and monthOfRegistration \n",
        "cars=cars.drop(columns=['yearOfRegistration','monthOfRegistration'],axis=1)"
      ],
      "execution_count": null,
      "outputs": []
    },
    {
      "cell_type": "code",
      "metadata": {
        "id": "Fn-bPXLm9zX6"
      },
      "source": [
        "#visualizing parameters"
      ],
      "execution_count": null,
      "outputs": []
    },
    {
      "cell_type": "code",
      "metadata": {
        "colab": {
          "base_uri": "https://localhost:8080/",
          "height": 354
        },
        "id": "N4XYWiUW94at",
        "outputId": "14b939e1-fc42-468d-c2a4-b1ca933f43e9"
      },
      "source": [
        "#Age\n",
        "sns.distplot(cars['Age'])"
      ],
      "execution_count": null,
      "outputs": [
        {
          "output_type": "stream",
          "name": "stderr",
          "text": [
            "/usr/local/lib/python3.7/dist-packages/seaborn/distributions.py:2619: FutureWarning: `distplot` is a deprecated function and will be removed in a future version. Please adapt your code to use either `displot` (a figure-level function with similar flexibility) or `histplot` (an axes-level function for histograms).\n",
            "  warnings.warn(msg, FutureWarning)\n"
          ]
        },
        {
          "output_type": "execute_result",
          "data": {
            "text/plain": [
              "<matplotlib.axes._subplots.AxesSubplot at 0x7fbb84f55810>"
            ]
          },
          "metadata": {},
          "execution_count": 29
        },
        {
          "output_type": "display_data",
          "data": {
            "image/png": "[encoded data removed]",
            "text/plain": [
              "<Figure size 432x288 with 1 Axes>"
            ]
          },
          "metadata": {
            "needs_background": "light"
          }
        }
      ]
    },
    {
      "cell_type": "code",
      "metadata": {
        "colab": {
          "base_uri": "https://localhost:8080/",
          "height": 272
        },
        "id": "EYzBe8aA99iQ",
        "outputId": "5dfc2f2b-8a08-4fd4-8331-0f308668d093"
      },
      "source": [
        "sns.boxplot(y=cars['Age'])"
      ],
      "execution_count": null,
      "outputs": [
        {
          "output_type": "execute_result",
          "data": {
            "text/plain": [
              "<matplotlib.axes._subplots.AxesSubplot at 0x7fbb84e1ebd0>"
            ]
          },
          "metadata": {},
          "execution_count": 30
        },
        {
          "output_type": "display_data",
          "data": {
            "image/png": "[encoded data removed]",
            "text/plain": [
              "<Figure size 432x288 with 1 Axes>"
            ]
          },
          "metadata": {
            "needs_background": "light"
          }
        }
      ]
    },
    {
      "cell_type": "code",
      "metadata": {
        "colab": {
          "base_uri": "https://localhost:8080/",
          "height": 354
        },
        "id": "VRM2v-9R-E6l",
        "outputId": "0cb55a8b-b1c7-430f-d8be-5e16f7cbf75f"
      },
      "source": [
        "#price\n",
        "sns.distplot(cars['price'])"
      ],
      "execution_count": null,
      "outputs": [
        {
          "output_type": "stream",
          "name": "stderr",
          "text": [
            "/usr/local/lib/python3.7/dist-packages/seaborn/distributions.py:2619: FutureWarning: `distplot` is a deprecated function and will be removed in a future version. Please adapt your code to use either `displot` (a figure-level function with similar flexibility) or `histplot` (an axes-level function for histograms).\n",
            "  warnings.warn(msg, FutureWarning)\n"
          ]
        },
        {
          "output_type": "execute_result",
          "data": {
            "text/plain": [
              "<matplotlib.axes._subplots.AxesSubplot at 0x7fbb850c8b90>"
            ]
          },
          "metadata": {},
          "execution_count": 31
        },
        {
          "output_type": "display_data",
          "data": {
            "image/png": "[encoded data removed]",
            "text/plain": [
              "<Figure size 432x288 with 1 Axes>"
            ]
          },
          "metadata": {
            "needs_background": "light"
          }
        }
      ]
    },
    {
      "cell_type": "code",
      "metadata": {
        "colab": {
          "base_uri": "https://localhost:8080/",
          "height": 270
        },
        "id": "NR7WTTOs-LfM",
        "outputId": "116672af-008c-4882-864a-1c06c1a64e93"
      },
      "source": [
        "sns.boxplot(y=cars['price'])"
      ],
      "execution_count": null,
      "outputs": [
        {
          "output_type": "execute_result",
          "data": {
            "text/plain": [
              "<matplotlib.axes._subplots.AxesSubplot at 0x7fbb84f96410>"
            ]
          },
          "metadata": {},
          "execution_count": 32
        },
        {
          "output_type": "display_data",
          "data": {
            "image/png": "[encoded data removed]",
            "text/plain": [
              "<Figure size 432x288 with 1 Axes>"
            ]
          },
          "metadata": {
            "needs_background": "light"
          }
        }
      ]
    },
    {
      "cell_type": "code",
      "metadata": {
        "colab": {
          "base_uri": "https://localhost:8080/",
          "height": 354
        },
        "id": "PjZ2ARC8-RDU",
        "outputId": "69ce9bc3-aa6a-42c7-a85e-59b3e894cdc6"
      },
      "source": [
        "#PowerPS\n",
        "sns.distplot(cars['powerPS'])"
      ],
      "execution_count": null,
      "outputs": [
        {
          "output_type": "stream",
          "name": "stderr",
          "text": [
            "/usr/local/lib/python3.7/dist-packages/seaborn/distributions.py:2619: FutureWarning: `distplot` is a deprecated function and will be removed in a future version. Please adapt your code to use either `displot` (a figure-level function with similar flexibility) or `histplot` (an axes-level function for histograms).\n",
            "  warnings.warn(msg, FutureWarning)\n"
          ]
        },
        {
          "output_type": "execute_result",
          "data": {
            "text/plain": [
              "<matplotlib.axes._subplots.AxesSubplot at 0x7fbb850cfe50>"
            ]
          },
          "metadata": {},
          "execution_count": 33
        },
        {
          "output_type": "display_data",
          "data": {
            "image/png": "[encoded data removed]",
            "text/plain": [
              "<Figure size 432x288 with 1 Axes>"
            ]
          },
          "metadata": {
            "needs_background": "light"
          }
        }
      ]
    },
    {
      "cell_type": "code",
      "metadata": {
        "colab": {
          "base_uri": "https://localhost:8080/",
          "height": 354
        },
        "id": "6j72hwoN-aSR",
        "outputId": "d11b1cdb-e37e-4b15-a576-446d010a1701"
      },
      "source": [
        "sns.boxplot(cars['powerPS'])"
      ],
      "execution_count": null,
      "outputs": [
        {
          "output_type": "stream",
          "name": "stderr",
          "text": [
            "/usr/local/lib/python3.7/dist-packages/seaborn/_decorators.py:43: FutureWarning: Pass the following variable as a keyword arg: x. From version 0.12, the only valid positional argument will be `data`, and passing other arguments without an explicit keyword will result in an error or misinterpretation.\n",
            "  FutureWarning\n"
          ]
        },
        {
          "output_type": "execute_result",
          "data": {
            "text/plain": [
              "<matplotlib.axes._subplots.AxesSubplot at 0x7fbb84b28050>"
            ]
          },
          "metadata": {},
          "execution_count": 34
        },
        {
          "output_type": "display_data",
          "data": {
            "image/png": "[encoded data removed]",
            "text/plain": [
              "<Figure size 432x288 with 1 Axes>"
            ]
          },
          "metadata": {
            "needs_background": "light"
          }
        }
      ]
    },
    {
      "cell_type": "code",
      "metadata": {
        "id": "pYgu6XF1-fT1"
      },
      "source": [
        "#Visualizing the paramets after norrowing working range"
      ],
      "execution_count": null,
      "outputs": []
    },
    {
      "cell_type": "code",
      "metadata": {
        "id": "zpwUZ8b8-1v7"
      },
      "source": [
        "#Age vs Price"
      ],
      "execution_count": null,
      "outputs": []
    },
    {
      "cell_type": "code",
      "metadata": {
        "colab": {
          "base_uri": "https://localhost:8080/",
          "height": 297
        },
        "id": "MRcIJ8Bm-4gu",
        "outputId": "332c5b75-9233-493c-caa1-62ff08f59258"
      },
      "source": [
        "sns.regplot(x='Age',y='price',scatter=True,fit_reg=False,data=cars)"
      ],
      "execution_count": null,
      "outputs": [
        {
          "output_type": "execute_result",
          "data": {
            "text/plain": [
              "<matplotlib.axes._subplots.AxesSubplot at 0x7fbb84aaa6d0>"
            ]
          },
          "metadata": {},
          "execution_count": 37
        },
        {
          "output_type": "display_data",
          "data": {
            "image/png": "[encoded data removed]",
            "text/plain": [
              "<Figure size 432x288 with 1 Axes>"
            ]
          },
          "metadata": {
            "needs_background": "light"
          }
        }
      ]
    },
    {
      "cell_type": "markdown",
      "metadata": {
        "id": "NbHJ1EeI_N19"
      },
      "source": [
        "From above fig we can observe that increasing age, price decreases however some cars are placed higher with increase"
      ]
    },
    {
      "cell_type": "code",
      "metadata": {
        "colab": {
          "base_uri": "https://localhost:8080/",
          "height": 297
        },
        "id": "5ZaBpYVc_FO8",
        "outputId": "9564549f-9b6a-4693-9242-b34011c81e57"
      },
      "source": [
        "#PowerPS vs Price\n",
        "sns.regplot(x='powerPS',y='price',scatter=True,fit_reg=True,data=cars)"
      ],
      "execution_count": null,
      "outputs": [
        {
          "output_type": "execute_result",
          "data": {
            "text/plain": [
              "<matplotlib.axes._subplots.AxesSubplot at 0x7fbb84a722d0>"
            ]
          },
          "metadata": {},
          "execution_count": 38
        },
        {
          "output_type": "display_data",
          "data": {
            "image/png": "[encoded data removed]",
            "text/plain": [
              "<Figure size 432x288 with 1 Axes>"
            ]
          },
          "metadata": {
            "needs_background": "light"
          }
        }
      ]
    },
    {
      "cell_type": "code",
      "metadata": {
        "colab": {
          "base_uri": "https://localhost:8080/"
        },
        "id": "WfWI1HmzorX6",
        "outputId": "84379ca3-3238-4469-f4bc-f51cdfa22516"
      },
      "source": [
        "#Variable Seller\n",
        "cars['seller'].value_counts()"
      ],
      "execution_count": null,
      "outputs": [
        {
          "output_type": "execute_result",
          "data": {
            "text/plain": [
              "private       39113\n",
              "commercial        1\n",
              "Name: seller, dtype: int64"
            ]
          },
          "metadata": {},
          "execution_count": 39
        }
      ]
    },
    {
      "cell_type": "code",
      "metadata": {
        "colab": {
          "base_uri": "https://localhost:8080/",
          "height": 297
        },
        "id": "jqwuI4u8pAhx",
        "outputId": "ec042f52-d002-4d9d-d5e7-a44d275e7c29"
      },
      "source": [
        "pd.crosstab(cars['seller'],columns='count',normalize=True)\n",
        "sns.countplot(x='seller',data=cars)"
      ],
      "execution_count": null,
      "outputs": [
        {
          "output_type": "execute_result",
          "data": {
            "text/plain": [
              "<matplotlib.axes._subplots.AxesSubplot at 0x7fbb84a03350>"
            ]
          },
          "metadata": {},
          "execution_count": 40
        },
        {
          "output_type": "display_data",
          "data": {
            "image/png": "[encoded data removed]",
            "text/plain": [
              "<Figure size 432x288 with 1 Axes>"
            ]
          },
          "metadata": {
            "needs_background": "light"
          }
        }
      ]
    },
    {
      "cell_type": "markdown",
      "metadata": {
        "id": "d2oNIgPDuQfj"
      },
      "source": [
        "Beacuse almost all the vehicles are of private type thats why it is not going to effect the price much "
      ]
    },
    {
      "cell_type": "code",
      "metadata": {
        "colab": {
          "base_uri": "https://localhost:8080/"
        },
        "id": "qd8I2oU0pODK",
        "outputId": "6839d64b-32ca-44ec-8048-81c32cb28184"
      },
      "source": [
        "#Variable OfferType\n",
        "cars['offerType'].value_counts()"
      ],
      "execution_count": null,
      "outputs": [
        {
          "output_type": "execute_result",
          "data": {
            "text/plain": [
              "offer    39114\n",
              "Name: offerType, dtype: int64"
            ]
          },
          "metadata": {},
          "execution_count": 41
        }
      ]
    },
    {
      "cell_type": "markdown",
      "metadata": {
        "id": "vnkXb-INue7U"
      },
      "source": [
        "Because offertype is same for all the vehicles thats why it is going impact  the price with same intensity"
      ]
    },
    {
      "cell_type": "code",
      "metadata": {
        "colab": {
          "base_uri": "https://localhost:8080/"
        },
        "id": "22Ocijgup3mz",
        "outputId": "13fefa66-32b5-40fc-84f5-3429eb29a0b3"
      },
      "source": [
        "#Variable abtest\n",
        "cars['abtest'].value_counts()"
      ],
      "execution_count": null,
      "outputs": [
        {
          "output_type": "execute_result",
          "data": {
            "text/plain": [
              "test       20208\n",
              "control    18906\n",
              "Name: abtest, dtype: int64"
            ]
          },
          "metadata": {},
          "execution_count": 42
        }
      ]
    },
    {
      "cell_type": "markdown",
      "metadata": {
        "id": "lBGWV9RXu0Xm"
      },
      "source": [
        "Both type have equal numbers of cars thats why not very  much effect on price"
      ]
    },
    {
      "cell_type": "code",
      "metadata": {
        "colab": {
          "base_uri": "https://localhost:8080/"
        },
        "id": "OBDSRZ61qFON",
        "outputId": "2896b1ab-c871-44d8-c9b5-3d9296a0db6e"
      },
      "source": [
        "#Variable vehicleType\n",
        "cars['vehicleType'].value_counts()"
      ],
      "execution_count": null,
      "outputs": [
        {
          "output_type": "execute_result",
          "data": {
            "text/plain": [
              "limousine        10768\n",
              "small car         9261\n",
              "station wagon     7449\n",
              "bus               3264\n",
              "cabrio            2254\n",
              "coupe             1721\n",
              "suv               1252\n",
              "others             318\n",
              "Name: vehicleType, dtype: int64"
            ]
          },
          "metadata": {},
          "execution_count": 43
        }
      ]
    },
    {
      "cell_type": "code",
      "metadata": {
        "colab": {
          "base_uri": "https://localhost:8080/"
        },
        "id": "mOtWPg6ErPWN",
        "outputId": "0a7387f7-e9b2-4187-d401-a1a4a914de79"
      },
      "source": [
        "#variable gearbox\n",
        "cars['gearbox'].value_counts()"
      ],
      "execution_count": null,
      "outputs": [
        {
          "output_type": "execute_result",
          "data": {
            "text/plain": [
              "manual       31099\n",
              "automatic     7245\n",
              "Name: gearbox, dtype: int64"
            ]
          },
          "metadata": {},
          "execution_count": 44
        }
      ]
    },
    {
      "cell_type": "code",
      "metadata": {
        "colab": {
          "base_uri": "https://localhost:8080/"
        },
        "id": "m3Dx8x5frgHn",
        "outputId": "a30f3856-23f7-4482-e52f-7e124359dabc"
      },
      "source": [
        "#Variable model\n",
        "cars['model'].value_counts()"
      ],
      "execution_count": null,
      "outputs": [
        {
          "output_type": "execute_result",
          "data": {
            "text/plain": [
              "golf          3246\n",
              "others        2553\n",
              "3er           2306\n",
              "polo          1503\n",
              "corsa         1402\n",
              "              ... \n",
              "serie_2          1\n",
              "200              1\n",
              "elefantino       1\n",
              "b_max            1\n",
              "amarok           1\n",
              "Name: model, Length: 243, dtype: int64"
            ]
          },
          "metadata": {},
          "execution_count": 45
        }
      ]
    },
    {
      "cell_type": "code",
      "metadata": {
        "colab": {
          "base_uri": "https://localhost:8080/"
        },
        "id": "13A46NQXrvQI",
        "outputId": "051f1864-7b35-4d57-9113-26561d0377f0"
      },
      "source": [
        "#variable kilometer\n",
        "cars['kilometer'].value_counts()"
      ],
      "execution_count": null,
      "outputs": [
        {
          "output_type": "execute_result",
          "data": {
            "text/plain": [
              "150000    26809\n",
              "125000     4220\n",
              "100000     1606\n",
              "90000      1240\n",
              "80000      1123\n",
              "70000       928\n",
              "60000       801\n",
              "50000       660\n",
              "40000       488\n",
              "30000       424\n",
              "5000        379\n",
              "20000       354\n",
              "10000        82\n",
              "Name: kilometer, dtype: int64"
            ]
          },
          "metadata": {},
          "execution_count": 46
        }
      ]
    },
    {
      "cell_type": "code",
      "metadata": {
        "colab": {
          "base_uri": "https://localhost:8080/",
          "height": 297
        },
        "id": "MBhcUM8Br7U7",
        "outputId": "e45f261c-4122-4b5b-8bea-0c8618a2bbc4"
      },
      "source": [
        "sns.boxplot(x='kilometer',y='price',data=cars)"
      ],
      "execution_count": null,
      "outputs": [
        {
          "output_type": "execute_result",
          "data": {
            "text/plain": [
              "<matplotlib.axes._subplots.AxesSubplot at 0x7fbb8497dc10>"
            ]
          },
          "metadata": {},
          "execution_count": 47
        },
        {
          "output_type": "display_data",
          "data": {
            "image/png": "[encoded data removed]",
            "text/plain": [
              "<Figure size 432x288 with 1 Axes>"
            ]
          },
          "metadata": {
            "needs_background": "light"
          }
        }
      ]
    },
    {
      "cell_type": "code",
      "metadata": {
        "colab": {
          "base_uri": "https://localhost:8080/"
        },
        "id": "s1-vVE74sQTu",
        "outputId": "ce9b0e15-d70f-47fc-b0f9-caecccd12b95"
      },
      "source": [
        "#variable fuelType\n",
        "cars['fuelType'].value_counts()"
      ],
      "execution_count": null,
      "outputs": [
        {
          "output_type": "execute_result",
          "data": {
            "text/plain": [
              "petrol     24939\n",
              "diesel     10858\n",
              "lpg          677\n",
              "cng           71\n",
              "hybrid        20\n",
              "electro        9\n",
              "other          5\n",
              "Name: fuelType, dtype: int64"
            ]
          },
          "metadata": {},
          "execution_count": 48
        }
      ]
    },
    {
      "cell_type": "code",
      "metadata": {
        "colab": {
          "base_uri": "https://localhost:8080/"
        },
        "id": "zdz_qsm3sefc",
        "outputId": "91425ba5-e72e-444d-b60f-1136d3ab9a2f"
      },
      "source": [
        "#Variable brand\n",
        "cars['brand'].value_counts()"
      ],
      "execution_count": null,
      "outputs": [
        {
          "output_type": "execute_result",
          "data": {
            "text/plain": [
              "volkswagen        8486\n",
              "opel              4447\n",
              "bmw               4173\n",
              "mercedes_benz     3495\n",
              "audi              3251\n",
              "ford              2698\n",
              "renault           1924\n",
              "peugeot           1312\n",
              "fiat               986\n",
              "seat               841\n",
              "skoda              642\n",
              "mazda              636\n",
              "smart              622\n",
              "citroen            588\n",
              "nissan             572\n",
              "toyota             523\n",
              "volvo              395\n",
              "hyundai            381\n",
              "mini               367\n",
              "mitsubishi         353\n",
              "honda              292\n",
              "suzuki             259\n",
              "kia                253\n",
              "alfa_romeo         243\n",
              "sonstige_autos     211\n",
              "chevrolet          198\n",
              "chrysler           146\n",
              "dacia              124\n",
              "subaru             103\n",
              "jeep                69\n",
              "daihatsu            67\n",
              "porsche             65\n",
              "saab                64\n",
              "lancia              55\n",
              "jaguar              55\n",
              "daewoo              53\n",
              "rover               51\n",
              "land_rover          49\n",
              "trabant             43\n",
              "lada                22\n",
              "Name: brand, dtype: int64"
            ]
          },
          "metadata": {},
          "execution_count": 49
        }
      ]
    },
    {
      "cell_type": "code",
      "metadata": {
        "colab": {
          "base_uri": "https://localhost:8080/"
        },
        "id": "frKlu9Pjsp3P",
        "outputId": "8fc1350c-3b71-4749-facd-413a2aeafb01"
      },
      "source": [
        "#variable notRepairedDamage\n",
        "cars['notRepairedDamage'].value_counts()"
      ],
      "execution_count": null,
      "outputs": [
        {
          "output_type": "execute_result",
          "data": {
            "text/plain": [
              "no     29035\n",
              "yes     3971\n",
              "Name: notRepairedDamage, dtype: int64"
            ]
          },
          "metadata": {},
          "execution_count": 50
        }
      ]
    },
    {
      "cell_type": "code",
      "metadata": {
        "id": "lWFxc6tMs4QS"
      },
      "source": [
        "#Remove Insignificant variables\n",
        "col=['seller','offerType','abtest']\n",
        "cars=cars.drop(columns=col,axis=1)\n",
        "cars_copy=cars.copy()"
      ],
      "execution_count": null,
      "outputs": []
    },
    {
      "cell_type": "code",
      "metadata": {
        "colab": {
          "base_uri": "https://localhost:8080/",
          "height": 206
        },
        "id": "BH_lwgydwmVW",
        "outputId": "399f7f5d-4811-4c9f-9889-71051c3408b9"
      },
      "source": [
        "cars_copy.head()"
      ],
      "execution_count": null,
      "outputs": [
        {
          "output_type": "execute_result",
          "data": {
            "text/html": [
              "<div>\n",
              "<style scoped>\n",
              "    .dataframe tbody tr th:only-of-type {\n",
              "        vertical-align: middle;\n",
              "    }\n",
              "\n",
              "    .dataframe tbody tr th {\n",
              "        vertical-align: top;\n",
              "    }\n",
              "\n",
              "    .dataframe thead th {\n",
              "        text-align: right;\n",
              "    }\n",
              "</style>\n",
              "<table border=\"1\" class=\"dataframe\">\n",
              "  <thead>\n",
              "    <tr style=\"text-align: right;\">\n",
              "      <th></th>\n",
              "      <th>price</th>\n",
              "      <th>vehicleType</th>\n",
              "      <th>gearbox</th>\n",
              "      <th>powerPS</th>\n",
              "      <th>model</th>\n",
              "      <th>kilometer</th>\n",
              "      <th>fuelType</th>\n",
              "      <th>brand</th>\n",
              "      <th>notRepairedDamage</th>\n",
              "      <th>Age</th>\n",
              "    </tr>\n",
              "  </thead>\n",
              "  <tbody>\n",
              "    <tr>\n",
              "      <th>0</th>\n",
              "      <td>4450</td>\n",
              "      <td>limousine</td>\n",
              "      <td>manual</td>\n",
              "      <td>150</td>\n",
              "      <td>3er</td>\n",
              "      <td>150000</td>\n",
              "      <td>diesel</td>\n",
              "      <td>bmw</td>\n",
              "      <td>NaN</td>\n",
              "      <td>15.250</td>\n",
              "    </tr>\n",
              "    <tr>\n",
              "      <th>1</th>\n",
              "      <td>13299</td>\n",
              "      <td>suv</td>\n",
              "      <td>manual</td>\n",
              "      <td>163</td>\n",
              "      <td>xc_reihe</td>\n",
              "      <td>150000</td>\n",
              "      <td>diesel</td>\n",
              "      <td>volvo</td>\n",
              "      <td>no</td>\n",
              "      <td>13.500</td>\n",
              "    </tr>\n",
              "    <tr>\n",
              "      <th>2</th>\n",
              "      <td>3200</td>\n",
              "      <td>bus</td>\n",
              "      <td>manual</td>\n",
              "      <td>101</td>\n",
              "      <td>touran</td>\n",
              "      <td>150000</td>\n",
              "      <td>diesel</td>\n",
              "      <td>volkswagen</td>\n",
              "      <td>NaN</td>\n",
              "      <td>15.920</td>\n",
              "    </tr>\n",
              "    <tr>\n",
              "      <th>3</th>\n",
              "      <td>4500</td>\n",
              "      <td>small car</td>\n",
              "      <td>manual</td>\n",
              "      <td>86</td>\n",
              "      <td>ibiza</td>\n",
              "      <td>60000</td>\n",
              "      <td>petrol</td>\n",
              "      <td>seat</td>\n",
              "      <td>no</td>\n",
              "      <td>13.000</td>\n",
              "    </tr>\n",
              "    <tr>\n",
              "      <th>5</th>\n",
              "      <td>988</td>\n",
              "      <td>limousine</td>\n",
              "      <td>manual</td>\n",
              "      <td>90</td>\n",
              "      <td>passat</td>\n",
              "      <td>150000</td>\n",
              "      <td>petrol</td>\n",
              "      <td>volkswagen</td>\n",
              "      <td>no</td>\n",
              "      <td>23.170</td>\n",
              "    </tr>\n",
              "  </tbody>\n",
              "</table>\n",
              "</div>"
            ],
            "text/plain": [
              "   price vehicleType gearbox  ...       brand notRepairedDamage    Age\n",
              "0   4450   limousine  manual  ...         bmw               NaN 15.250\n",
              "1  13299         suv  manual  ...       volvo                no 13.500\n",
              "2   3200         bus  manual  ...  volkswagen               NaN 15.920\n",
              "3   4500   small car  manual  ...        seat                no 13.000\n",
              "5    988   limousine  manual  ...  volkswagen                no 23.170\n",
              "\n",
              "[5 rows x 10 columns]"
            ]
          },
          "metadata": {},
          "execution_count": 52
        }
      ]
    },
    {
      "cell_type": "code",
      "metadata": {
        "id": "pR-UB3vSwBob"
      },
      "source": [
        "#Correlation\n",
        "cars_select1=cars.select_dtypes(exclude=[object])"
      ],
      "execution_count": null,
      "outputs": []
    },
    {
      "cell_type": "code",
      "metadata": {
        "colab": {
          "base_uri": "https://localhost:8080/",
          "height": 423
        },
        "id": "J1HjJ4BuxA7y",
        "outputId": "4b482a76-080a-44bf-e284-78c11862b56b"
      },
      "source": [
        "cars_select1"
      ],
      "execution_count": null,
      "outputs": [
        {
          "output_type": "execute_result",
          "data": {
            "text/html": [
              "<div>\n",
              "<style scoped>\n",
              "    .dataframe tbody tr th:only-of-type {\n",
              "        vertical-align: middle;\n",
              "    }\n",
              "\n",
              "    .dataframe tbody tr th {\n",
              "        vertical-align: top;\n",
              "    }\n",
              "\n",
              "    .dataframe thead th {\n",
              "        text-align: right;\n",
              "    }\n",
              "</style>\n",
              "<table border=\"1\" class=\"dataframe\">\n",
              "  <thead>\n",
              "    <tr style=\"text-align: right;\">\n",
              "      <th></th>\n",
              "      <th>price</th>\n",
              "      <th>powerPS</th>\n",
              "      <th>kilometer</th>\n",
              "      <th>Age</th>\n",
              "    </tr>\n",
              "  </thead>\n",
              "  <tbody>\n",
              "    <tr>\n",
              "      <th>0</th>\n",
              "      <td>4450</td>\n",
              "      <td>150</td>\n",
              "      <td>150000</td>\n",
              "      <td>15.250</td>\n",
              "    </tr>\n",
              "    <tr>\n",
              "      <th>1</th>\n",
              "      <td>13299</td>\n",
              "      <td>163</td>\n",
              "      <td>150000</td>\n",
              "      <td>13.500</td>\n",
              "    </tr>\n",
              "    <tr>\n",
              "      <th>2</th>\n",
              "      <td>3200</td>\n",
              "      <td>101</td>\n",
              "      <td>150000</td>\n",
              "      <td>15.920</td>\n",
              "    </tr>\n",
              "    <tr>\n",
              "      <th>3</th>\n",
              "      <td>4500</td>\n",
              "      <td>86</td>\n",
              "      <td>60000</td>\n",
              "      <td>13.000</td>\n",
              "    </tr>\n",
              "    <tr>\n",
              "      <th>5</th>\n",
              "      <td>988</td>\n",
              "      <td>90</td>\n",
              "      <td>150000</td>\n",
              "      <td>23.170</td>\n",
              "    </tr>\n",
              "    <tr>\n",
              "      <th>...</th>\n",
              "      <td>...</td>\n",
              "      <td>...</td>\n",
              "      <td>...</td>\n",
              "      <td>...</td>\n",
              "    </tr>\n",
              "    <tr>\n",
              "      <th>49991</th>\n",
              "      <td>10900</td>\n",
              "      <td>231</td>\n",
              "      <td>150000</td>\n",
              "      <td>14.670</td>\n",
              "    </tr>\n",
              "    <tr>\n",
              "      <th>49992</th>\n",
              "      <td>790</td>\n",
              "      <td>82</td>\n",
              "      <td>150000</td>\n",
              "      <td>20.750</td>\n",
              "    </tr>\n",
              "    <tr>\n",
              "      <th>49993</th>\n",
              "      <td>830</td>\n",
              "      <td>60</td>\n",
              "      <td>125000</td>\n",
              "      <td>19.670</td>\n",
              "    </tr>\n",
              "    <tr>\n",
              "      <th>49995</th>\n",
              "      <td>2290</td>\n",
              "      <td>101</td>\n",
              "      <td>150000</td>\n",
              "      <td>17.250</td>\n",
              "    </tr>\n",
              "    <tr>\n",
              "      <th>50000</th>\n",
              "      <td>1100</td>\n",
              "      <td>38</td>\n",
              "      <td>150000</td>\n",
              "      <td>12.830</td>\n",
              "    </tr>\n",
              "  </tbody>\n",
              "</table>\n",
              "<p>39114 rows × 4 columns</p>\n",
              "</div>"
            ],
            "text/plain": [
              "       price  powerPS  kilometer    Age\n",
              "0       4450      150     150000 15.250\n",
              "1      13299      163     150000 13.500\n",
              "2       3200      101     150000 15.920\n",
              "3       4500       86      60000 13.000\n",
              "5        988       90     150000 23.170\n",
              "...      ...      ...        ...    ...\n",
              "49991  10900      231     150000 14.670\n",
              "49992    790       82     150000 20.750\n",
              "49993    830       60     125000 19.670\n",
              "49995   2290      101     150000 17.250\n",
              "50000   1100       38     150000 12.830\n",
              "\n",
              "[39114 rows x 4 columns]"
            ]
          },
          "metadata": {},
          "execution_count": 54
        }
      ]
    },
    {
      "cell_type": "code",
      "metadata": {
        "id": "XoohCyWHwX96"
      },
      "source": [
        "correlation=cars_select1.corr()"
      ],
      "execution_count": null,
      "outputs": []
    },
    {
      "cell_type": "code",
      "metadata": {
        "colab": {
          "base_uri": "https://localhost:8080/",
          "height": 174
        },
        "id": "kYqPQ6OlwedZ",
        "outputId": "a3e7fd41-0d9b-4b41-9e32-e09342bc9094"
      },
      "source": [
        "round(correlation,3)"
      ],
      "execution_count": null,
      "outputs": [
        {
          "output_type": "execute_result",
          "data": {
            "text/html": [
              "<div>\n",
              "<style scoped>\n",
              "    .dataframe tbody tr th:only-of-type {\n",
              "        vertical-align: middle;\n",
              "    }\n",
              "\n",
              "    .dataframe tbody tr th {\n",
              "        vertical-align: top;\n",
              "    }\n",
              "\n",
              "    .dataframe thead th {\n",
              "        text-align: right;\n",
              "    }\n",
              "</style>\n",
              "<table border=\"1\" class=\"dataframe\">\n",
              "  <thead>\n",
              "    <tr style=\"text-align: right;\">\n",
              "      <th></th>\n",
              "      <th>price</th>\n",
              "      <th>powerPS</th>\n",
              "      <th>kilometer</th>\n",
              "      <th>Age</th>\n",
              "    </tr>\n",
              "  </thead>\n",
              "  <tbody>\n",
              "    <tr>\n",
              "      <th>price</th>\n",
              "      <td>1.000</td>\n",
              "      <td>0.478</td>\n",
              "      <td>-0.333</td>\n",
              "      <td>-0.406</td>\n",
              "    </tr>\n",
              "    <tr>\n",
              "      <th>powerPS</th>\n",
              "      <td>0.478</td>\n",
              "      <td>1.000</td>\n",
              "      <td>0.145</td>\n",
              "      <td>-0.076</td>\n",
              "    </tr>\n",
              "    <tr>\n",
              "      <th>kilometer</th>\n",
              "      <td>-0.333</td>\n",
              "      <td>0.145</td>\n",
              "      <td>1.000</td>\n",
              "      <td>0.221</td>\n",
              "    </tr>\n",
              "    <tr>\n",
              "      <th>Age</th>\n",
              "      <td>-0.406</td>\n",
              "      <td>-0.076</td>\n",
              "      <td>0.221</td>\n",
              "      <td>1.000</td>\n",
              "    </tr>\n",
              "  </tbody>\n",
              "</table>\n",
              "</div>"
            ],
            "text/plain": [
              "           price  powerPS  kilometer    Age\n",
              "price      1.000    0.478     -0.333 -0.406\n",
              "powerPS    0.478    1.000      0.145 -0.076\n",
              "kilometer -0.333    0.145      1.000  0.221\n",
              "Age       -0.406   -0.076      0.221  1.000"
            ]
          },
          "metadata": {},
          "execution_count": 56
        }
      ]
    },
    {
      "cell_type": "code",
      "metadata": {
        "colab": {
          "base_uri": "https://localhost:8080/"
        },
        "id": "vakQTHqUxQ5N",
        "outputId": "1ab3d45f-9dca-45a3-edca-eaec03a913a1"
      },
      "source": [
        "cars_select1.corr().loc[:,'price'].abs().sort_values(ascending=False)[1:]"
      ],
      "execution_count": null,
      "outputs": [
        {
          "output_type": "execute_result",
          "data": {
            "text/plain": [
              "powerPS     0.478\n",
              "Age         0.406\n",
              "kilometer   0.333\n",
              "Name: price, dtype: float64"
            ]
          },
          "metadata": {},
          "execution_count": 57
        }
      ]
    },
    {
      "cell_type": "code",
      "metadata": {
        "id": "8Owr0kOxxlRe"
      },
      "source": [
        "#Dropping missing values\n",
        "cars_omit=cars.dropna(axis=0)"
      ],
      "execution_count": null,
      "outputs": []
    },
    {
      "cell_type": "code",
      "metadata": {
        "colab": {
          "base_uri": "https://localhost:8080/"
        },
        "id": "0lBvTW7ZyonU",
        "outputId": "9bebdae6-22d7-46e3-f4ef-249fd1657cd7"
      },
      "source": [
        "cars.isnull().sum()"
      ],
      "execution_count": null,
      "outputs": [
        {
          "output_type": "execute_result",
          "data": {
            "text/plain": [
              "price                   0\n",
              "vehicleType          2827\n",
              "gearbox               770\n",
              "powerPS                 0\n",
              "model                1558\n",
              "kilometer               0\n",
              "fuelType             2535\n",
              "brand                   0\n",
              "notRepairedDamage    6108\n",
              "Age                     0\n",
              "dtype: int64"
            ]
          },
          "metadata": {},
          "execution_count": 59
        }
      ]
    },
    {
      "cell_type": "code",
      "metadata": {
        "colab": {
          "base_uri": "https://localhost:8080/"
        },
        "id": "uqJqD5w1yjmL",
        "outputId": "d1c5df96-e665-40bd-cb00-c7a228fddbad"
      },
      "source": [
        "cars_omit.isnull().sum()"
      ],
      "execution_count": null,
      "outputs": [
        {
          "output_type": "execute_result",
          "data": {
            "text/plain": [
              "price                0\n",
              "vehicleType          0\n",
              "gearbox              0\n",
              "powerPS              0\n",
              "model                0\n",
              "kilometer            0\n",
              "fuelType             0\n",
              "brand                0\n",
              "notRepairedDamage    0\n",
              "Age                  0\n",
              "dtype: int64"
            ]
          },
          "metadata": {},
          "execution_count": 60
        }
      ]
    },
    {
      "cell_type": "code",
      "metadata": {
        "colab": {
          "base_uri": "https://localhost:8080/",
          "height": 206
        },
        "id": "-dPs_MeYyt9Y",
        "outputId": "9cc2ab3f-9bf9-42c8-ef0a-76b64c444982"
      },
      "source": [
        "cars_omit.head()"
      ],
      "execution_count": null,
      "outputs": [
        {
          "output_type": "execute_result",
          "data": {
            "text/html": [
              "<div>\n",
              "<style scoped>\n",
              "    .dataframe tbody tr th:only-of-type {\n",
              "        vertical-align: middle;\n",
              "    }\n",
              "\n",
              "    .dataframe tbody tr th {\n",
              "        vertical-align: top;\n",
              "    }\n",
              "\n",
              "    .dataframe thead th {\n",
              "        text-align: right;\n",
              "    }\n",
              "</style>\n",
              "<table border=\"1\" class=\"dataframe\">\n",
              "  <thead>\n",
              "    <tr style=\"text-align: right;\">\n",
              "      <th></th>\n",
              "      <th>price</th>\n",
              "      <th>vehicleType</th>\n",
              "      <th>gearbox</th>\n",
              "      <th>powerPS</th>\n",
              "      <th>model</th>\n",
              "      <th>kilometer</th>\n",
              "      <th>fuelType</th>\n",
              "      <th>brand</th>\n",
              "      <th>notRepairedDamage</th>\n",
              "      <th>Age</th>\n",
              "    </tr>\n",
              "  </thead>\n",
              "  <tbody>\n",
              "    <tr>\n",
              "      <th>1</th>\n",
              "      <td>13299</td>\n",
              "      <td>suv</td>\n",
              "      <td>manual</td>\n",
              "      <td>163</td>\n",
              "      <td>xc_reihe</td>\n",
              "      <td>150000</td>\n",
              "      <td>diesel</td>\n",
              "      <td>volvo</td>\n",
              "      <td>no</td>\n",
              "      <td>13.500</td>\n",
              "    </tr>\n",
              "    <tr>\n",
              "      <th>3</th>\n",
              "      <td>4500</td>\n",
              "      <td>small car</td>\n",
              "      <td>manual</td>\n",
              "      <td>86</td>\n",
              "      <td>ibiza</td>\n",
              "      <td>60000</td>\n",
              "      <td>petrol</td>\n",
              "      <td>seat</td>\n",
              "      <td>no</td>\n",
              "      <td>13.000</td>\n",
              "    </tr>\n",
              "    <tr>\n",
              "      <th>5</th>\n",
              "      <td>988</td>\n",
              "      <td>limousine</td>\n",
              "      <td>manual</td>\n",
              "      <td>90</td>\n",
              "      <td>passat</td>\n",
              "      <td>150000</td>\n",
              "      <td>petrol</td>\n",
              "      <td>volkswagen</td>\n",
              "      <td>no</td>\n",
              "      <td>23.170</td>\n",
              "    </tr>\n",
              "    <tr>\n",
              "      <th>7</th>\n",
              "      <td>1399</td>\n",
              "      <td>coupe</td>\n",
              "      <td>manual</td>\n",
              "      <td>136</td>\n",
              "      <td>clk</td>\n",
              "      <td>150000</td>\n",
              "      <td>petrol</td>\n",
              "      <td>mercedes_benz</td>\n",
              "      <td>no</td>\n",
              "      <td>21.920</td>\n",
              "    </tr>\n",
              "    <tr>\n",
              "      <th>8</th>\n",
              "      <td>4680</td>\n",
              "      <td>station wagon</td>\n",
              "      <td>manual</td>\n",
              "      <td>122</td>\n",
              "      <td>vectra</td>\n",
              "      <td>150000</td>\n",
              "      <td>petrol</td>\n",
              "      <td>opel</td>\n",
              "      <td>no</td>\n",
              "      <td>14.000</td>\n",
              "    </tr>\n",
              "  </tbody>\n",
              "</table>\n",
              "</div>"
            ],
            "text/plain": [
              "   price    vehicleType gearbox  ...          brand notRepairedDamage    Age\n",
              "1  13299            suv  manual  ...          volvo                no 13.500\n",
              "3   4500      small car  manual  ...           seat                no 13.000\n",
              "5    988      limousine  manual  ...     volkswagen                no 23.170\n",
              "7   1399          coupe  manual  ...  mercedes_benz                no 21.920\n",
              "8   4680  station wagon  manual  ...           opel                no 14.000\n",
              "\n",
              "[5 rows x 10 columns]"
            ]
          },
          "metadata": {},
          "execution_count": 61
        }
      ]
    },
    {
      "cell_type": "code",
      "metadata": {
        "id": "Iue_eX3my8ap"
      },
      "source": [
        "#Converting the categorical variable into dummy variables\n",
        "cars_omit=pd.get_dummies(cars_omit,drop_first=True)"
      ],
      "execution_count": null,
      "outputs": []
    },
    {
      "cell_type": "code",
      "metadata": {
        "colab": {
          "base_uri": "https://localhost:8080/"
        },
        "id": "g_ZRtfo_zUdj",
        "outputId": "de905cc6-fc18-48a9-fa9b-136bd2bf6dad"
      },
      "source": [
        "cars_omit.shape"
      ],
      "execution_count": null,
      "outputs": [
        {
          "output_type": "execute_result",
          "data": {
            "text/plain": [
              "(29565, 297)"
            ]
          },
          "metadata": {},
          "execution_count": 63
        }
      ]
    },
    {
      "cell_type": "markdown",
      "metadata": {
        "id": "4P_Ub3Qoz6yZ"
      },
      "source": [
        "## Model Building with Omitted Data"
      ]
    },
    {
      "cell_type": "code",
      "metadata": {
        "id": "ClE33zS8zX1x"
      },
      "source": [
        "#Seperating the input and output features\n",
        "x1=cars_omit.drop(['price'],axis='columns',inplace=False)\n",
        "y1=cars_omit['price']"
      ],
      "execution_count": null,
      "outputs": []
    },
    {
      "cell_type": "code",
      "metadata": {
        "colab": {
          "base_uri": "https://localhost:8080/"
        },
        "id": "zunTme3c0Js0",
        "outputId": "0f1a1a96-202f-426b-93e9-cc30882fa909"
      },
      "source": [
        "y1.shape"
      ],
      "execution_count": null,
      "outputs": [
        {
          "output_type": "execute_result",
          "data": {
            "text/plain": [
              "(29565,)"
            ]
          },
          "metadata": {},
          "execution_count": 65
        }
      ]
    },
    {
      "cell_type": "code",
      "metadata": {
        "colab": {
          "base_uri": "https://localhost:8080/"
        },
        "id": "FoCFab1f0nrH",
        "outputId": "c99974cc-36c8-433c-c0be-be30457c11db"
      },
      "source": [
        "x1.shape"
      ],
      "execution_count": null,
      "outputs": [
        {
          "output_type": "execute_result",
          "data": {
            "text/plain": [
              "(29565, 296)"
            ]
          },
          "metadata": {},
          "execution_count": 66
        }
      ]
    },
    {
      "cell_type": "code",
      "metadata": {
        "colab": {
          "base_uri": "https://localhost:8080/",
          "height": 336
        },
        "id": "1xEtiM-60poO",
        "outputId": "da22c556-7c7a-4691-bd4d-41fa2b4e11e8"
      },
      "source": [
        "#Plotting the variable price\n",
        "prices=pd.DataFrame({\"1. Before\":y1,\"2. After\":np.log(y1)})\n",
        "prices.hist()"
      ],
      "execution_count": null,
      "outputs": [
        {
          "output_type": "execute_result",
          "data": {
            "text/plain": [
              "array([[<matplotlib.axes._subplots.AxesSubplot object at 0x7fbb84780f50>,\n",
              "        <matplotlib.axes._subplots.AxesSubplot object at 0x7fbb84735650>]],\n",
              "      dtype=object)"
            ]
          },
          "metadata": {},
          "execution_count": 67
        },
        {
          "output_type": "display_data",
          "data": {
            "image/png": "[encoded data removed]",
            "text/plain": [
              "<Figure size 432x288 with 2 Axes>"
            ]
          },
          "metadata": {
            "needs_background": "light"
          }
        }
      ]
    },
    {
      "cell_type": "code",
      "metadata": {
        "id": "9wFueD3C1KaO"
      },
      "source": [
        "#Transforming price as a logarithmic value\n",
        "y1=np.log(y1)"
      ],
      "execution_count": null,
      "outputs": []
    },
    {
      "cell_type": "code",
      "metadata": {
        "colab": {
          "base_uri": "https://localhost:8080/"
        },
        "id": "HiPQY_G61bzA",
        "outputId": "fdb4b44d-6738-4110-f148-107de0defce6"
      },
      "source": [
        "#Splitting the data into training and testing\n",
        "x_train,x_test,y_train,y_test=train_test_split(x1,y1,test_size=0.3,random_state=3)\n",
        "print(x_train.shape,x_test.shape)\n",
        "print(y_train.shape,y_test.shape)"
      ],
      "execution_count": null,
      "outputs": [
        {
          "output_type": "stream",
          "name": "stdout",
          "text": [
            "(20695, 296) (8870, 296)\n",
            "(20695,) (8870,)\n"
          ]
        }
      ]
    },
    {
      "cell_type": "code",
      "metadata": {
        "colab": {
          "base_uri": "https://localhost:8080/"
        },
        "id": "QImSekq816d7",
        "outputId": "6c8596d2-f2a1-4535-fe9a-6a3f94113325"
      },
      "source": [
        "#Baseline model for omitted data\n",
        "base_pred=np.mean(y_test)\n",
        "print(base_pred)"
      ],
      "execution_count": null,
      "outputs": [
        {
          "output_type": "stream",
          "name": "stdout",
          "text": [
            "8.022465010016246\n"
          ]
        }
      ]
    },
    {
      "cell_type": "code",
      "metadata": {
        "id": "AXIxY7sX4Pfn"
      },
      "source": [
        "base_pred=pd.Series([8.022]*8870)"
      ],
      "execution_count": null,
      "outputs": []
    },
    {
      "cell_type": "code",
      "metadata": {
        "colab": {
          "base_uri": "https://localhost:8080/"
        },
        "id": "Zm9kSZPE345h",
        "outputId": "a2824f34-4722-4e3c-e989-4aba96b25431"
      },
      "source": [
        "mean_squared_error(y_test,base_pred)"
      ],
      "execution_count": null,
      "outputs": [
        {
          "output_type": "execute_result",
          "data": {
            "text/plain": [
              "0.9675899543763141"
            ]
          },
          "metadata": {},
          "execution_count": 72
        }
      ]
    },
    {
      "cell_type": "code",
      "metadata": {
        "colab": {
          "base_uri": "https://localhost:8080/"
        },
        "id": "EUalIoZk3Ha4",
        "outputId": "3073dc60-93c7-432f-be2f-04f48e16ef43"
      },
      "source": [
        "base_root_mean_square_error=np.sqrt(mean_squared_error(y_test,base_pred))\n",
        "print(base_root_mean_square_error)"
      ],
      "execution_count": null,
      "outputs": [
        {
          "output_type": "stream",
          "name": "stdout",
          "text": [
            "0.9836615039617613\n"
          ]
        }
      ]
    },
    {
      "cell_type": "code",
      "metadata": {
        "id": "gohW0dNR3gBK"
      },
      "source": [
        "#Linear Regression Model with Omitted Values\n",
        "#Setting Intercept as True\n",
        "lgr=LinearRegression(fit_intercept=True)"
      ],
      "execution_count": null,
      "outputs": []
    },
    {
      "cell_type": "code",
      "metadata": {
        "id": "FS_nXrPL7S2W"
      },
      "source": [
        "#Model\n",
        "model1=lgr.fit(x_train,y_train)"
      ],
      "execution_count": null,
      "outputs": []
    },
    {
      "cell_type": "code",
      "metadata": {
        "id": "MqrOccfQ7hGa"
      },
      "source": [
        "#Predicting the model on test data\n",
        "cars_pred1=lgr.predict(x_test)"
      ],
      "execution_count": null,
      "outputs": []
    },
    {
      "cell_type": "code",
      "metadata": {
        "colab": {
          "base_uri": "https://localhost:8080/"
        },
        "id": "vnRJ0Wsn7jTd",
        "outputId": "50e3269a-30c3-4556-dd9e-f87129778f5d"
      },
      "source": [
        "#Compute MSE and RMSE\n",
        "lin_mse1=mean_squared_error(y_test,cars_pred1)\n",
        "lin_rmse1=np.sqrt(lin_mse1)\n",
        "print(lin_rmse1)"
      ],
      "execution_count": null,
      "outputs": [
        {
          "output_type": "stream",
          "name": "stdout",
          "text": [
            "0.5215835065119963\n"
          ]
        }
      ]
    },
    {
      "cell_type": "code",
      "metadata": {
        "colab": {
          "base_uri": "https://localhost:8080/"
        },
        "id": "v-UPV_nh7lFY",
        "outputId": "bbc06243-6ef9-45da-c91a-2e6b3fed553b"
      },
      "source": [
        "#R squared value\n",
        "r2_lin_test1=model1.score(x_test,y_test)\n",
        "r2_lin_train1=model1.score(x_train,y_train)\n",
        "print(r2_lin_test1,r2_lin_train1)"
      ],
      "execution_count": null,
      "outputs": [
        {
          "output_type": "stream",
          "name": "stdout",
          "text": [
            "0.7188381154312894 0.7210427117224386\n"
          ]
        }
      ]
    },
    {
      "cell_type": "code",
      "metadata": {
        "colab": {
          "base_uri": "https://localhost:8080/",
          "height": 431
        },
        "id": "LMyvWMZ-7nW0",
        "outputId": "949aee41-86db-42ea-85f4-c61e112c4c4b"
      },
      "source": [
        "#Regression diagnostics - Residual Plot Analysis\n",
        "residuals1=y_test-cars_pred1\n",
        "sns.regplot(x=cars_pred1,y=residuals1,scatter=True,fit_reg=False)\n",
        "residuals1.describe()"
      ],
      "execution_count": null,
      "outputs": [
        {
          "output_type": "execute_result",
          "data": {
            "text/plain": [
              "count   8870.000\n",
              "mean      -0.003\n",
              "std        0.522\n",
              "min       -4.582\n",
              "25%       -0.257\n",
              "50%        0.038\n",
              "75%        0.282\n",
              "max        5.226\n",
              "Name: price, dtype: float64"
            ]
          },
          "metadata": {},
          "execution_count": 79
        },
        {
          "output_type": "display_data",
          "data": {
            "image/png": "[encoded data removed]",
            "text/plain": [
              "<Figure size 432x288 with 1 Axes>"
            ]
          },
          "metadata": {
            "needs_background": "light"
          }
        }
      ]
    },
    {
      "cell_type": "code",
      "metadata": {
        "colab": {
          "base_uri": "https://localhost:8080/"
        },
        "id": "85RMHNop7rSd",
        "outputId": "f5b519d7-2376-498c-cbea-6f1899ce92e9"
      },
      "source": [
        "y_test[25827]"
      ],
      "execution_count": null,
      "outputs": [
        {
          "output_type": "execute_result",
          "data": {
            "text/plain": [
              "8.160518247477505"
            ]
          },
          "metadata": {},
          "execution_count": 80
        }
      ]
    },
    {
      "cell_type": "code",
      "metadata": {
        "colab": {
          "base_uri": "https://localhost:8080/",
          "height": 147
        },
        "id": "ghHTN4oI8ySn",
        "outputId": "20080ab8-799a-4ae6-b4fa-7635452aedd9"
      },
      "source": [
        "x_test[0:1]"
      ],
      "execution_count": null,
      "outputs": [
        {
          "output_type": "execute_result",
          "data": {
            "text/html": [
              "<div>\n",
              "<style scoped>\n",
              "    .dataframe tbody tr th:only-of-type {\n",
              "        vertical-align: middle;\n",
              "    }\n",
              "\n",
              "    .dataframe tbody tr th {\n",
              "        vertical-align: top;\n",
              "    }\n",
              "\n",
              "    .dataframe thead th {\n",
              "        text-align: right;\n",
              "    }\n",
              "</style>\n",
              "<table border=\"1\" class=\"dataframe\">\n",
              "  <thead>\n",
              "    <tr style=\"text-align: right;\">\n",
              "      <th></th>\n",
              "      <th>powerPS</th>\n",
              "      <th>kilometer</th>\n",
              "      <th>Age</th>\n",
              "      <th>vehicleType_cabrio</th>\n",
              "      <th>vehicleType_coupe</th>\n",
              "      <th>vehicleType_limousine</th>\n",
              "      <th>vehicleType_others</th>\n",
              "      <th>vehicleType_small car</th>\n",
              "      <th>vehicleType_station wagon</th>\n",
              "      <th>vehicleType_suv</th>\n",
              "      <th>gearbox_manual</th>\n",
              "      <th>model_147</th>\n",
              "      <th>model_156</th>\n",
              "      <th>model_159</th>\n",
              "      <th>model_1_reihe</th>\n",
              "      <th>model_1er</th>\n",
              "      <th>model_200</th>\n",
              "      <th>model_2_reihe</th>\n",
              "      <th>model_300c</th>\n",
              "      <th>model_3_reihe</th>\n",
              "      <th>model_3er</th>\n",
              "      <th>model_4_reihe</th>\n",
              "      <th>model_500</th>\n",
              "      <th>model_5_reihe</th>\n",
              "      <th>model_5er</th>\n",
              "      <th>model_601</th>\n",
              "      <th>model_6_reihe</th>\n",
              "      <th>model_6er</th>\n",
              "      <th>model_7er</th>\n",
              "      <th>model_80</th>\n",
              "      <th>model_850</th>\n",
              "      <th>model_90</th>\n",
              "      <th>model_900</th>\n",
              "      <th>model_9000</th>\n",
              "      <th>model_911</th>\n",
              "      <th>model_a1</th>\n",
              "      <th>model_a2</th>\n",
              "      <th>model_a3</th>\n",
              "      <th>model_a4</th>\n",
              "      <th>model_a5</th>\n",
              "      <th>...</th>\n",
              "      <th>fuelType_petrol</th>\n",
              "      <th>brand_audi</th>\n",
              "      <th>brand_bmw</th>\n",
              "      <th>brand_chevrolet</th>\n",
              "      <th>brand_chrysler</th>\n",
              "      <th>brand_citroen</th>\n",
              "      <th>brand_dacia</th>\n",
              "      <th>brand_daewoo</th>\n",
              "      <th>brand_daihatsu</th>\n",
              "      <th>brand_fiat</th>\n",
              "      <th>brand_ford</th>\n",
              "      <th>brand_honda</th>\n",
              "      <th>brand_hyundai</th>\n",
              "      <th>brand_jaguar</th>\n",
              "      <th>brand_jeep</th>\n",
              "      <th>brand_kia</th>\n",
              "      <th>brand_lada</th>\n",
              "      <th>brand_lancia</th>\n",
              "      <th>brand_land_rover</th>\n",
              "      <th>brand_mazda</th>\n",
              "      <th>brand_mercedes_benz</th>\n",
              "      <th>brand_mini</th>\n",
              "      <th>brand_mitsubishi</th>\n",
              "      <th>brand_nissan</th>\n",
              "      <th>brand_opel</th>\n",
              "      <th>brand_peugeot</th>\n",
              "      <th>brand_porsche</th>\n",
              "      <th>brand_renault</th>\n",
              "      <th>brand_rover</th>\n",
              "      <th>brand_saab</th>\n",
              "      <th>brand_seat</th>\n",
              "      <th>brand_skoda</th>\n",
              "      <th>brand_smart</th>\n",
              "      <th>brand_subaru</th>\n",
              "      <th>brand_suzuki</th>\n",
              "      <th>brand_toyota</th>\n",
              "      <th>brand_trabant</th>\n",
              "      <th>brand_volkswagen</th>\n",
              "      <th>brand_volvo</th>\n",
              "      <th>notRepairedDamage_yes</th>\n",
              "    </tr>\n",
              "  </thead>\n",
              "  <tbody>\n",
              "    <tr>\n",
              "      <th>25827</th>\n",
              "      <td>101</td>\n",
              "      <td>125000</td>\n",
              "      <td>15.330</td>\n",
              "      <td>0</td>\n",
              "      <td>0</td>\n",
              "      <td>0</td>\n",
              "      <td>0</td>\n",
              "      <td>0</td>\n",
              "      <td>1</td>\n",
              "      <td>0</td>\n",
              "      <td>1</td>\n",
              "      <td>0</td>\n",
              "      <td>0</td>\n",
              "      <td>0</td>\n",
              "      <td>0</td>\n",
              "      <td>0</td>\n",
              "      <td>0</td>\n",
              "      <td>0</td>\n",
              "      <td>0</td>\n",
              "      <td>0</td>\n",
              "      <td>0</td>\n",
              "      <td>0</td>\n",
              "      <td>0</td>\n",
              "      <td>0</td>\n",
              "      <td>0</td>\n",
              "      <td>0</td>\n",
              "      <td>0</td>\n",
              "      <td>0</td>\n",
              "      <td>0</td>\n",
              "      <td>0</td>\n",
              "      <td>0</td>\n",
              "      <td>0</td>\n",
              "      <td>0</td>\n",
              "      <td>0</td>\n",
              "      <td>0</td>\n",
              "      <td>0</td>\n",
              "      <td>0</td>\n",
              "      <td>0</td>\n",
              "      <td>0</td>\n",
              "      <td>0</td>\n",
              "      <td>...</td>\n",
              "      <td>1</td>\n",
              "      <td>0</td>\n",
              "      <td>0</td>\n",
              "      <td>0</td>\n",
              "      <td>0</td>\n",
              "      <td>0</td>\n",
              "      <td>0</td>\n",
              "      <td>0</td>\n",
              "      <td>0</td>\n",
              "      <td>0</td>\n",
              "      <td>0</td>\n",
              "      <td>0</td>\n",
              "      <td>0</td>\n",
              "      <td>0</td>\n",
              "      <td>0</td>\n",
              "      <td>0</td>\n",
              "      <td>0</td>\n",
              "      <td>0</td>\n",
              "      <td>0</td>\n",
              "      <td>0</td>\n",
              "      <td>0</td>\n",
              "      <td>0</td>\n",
              "      <td>0</td>\n",
              "      <td>0</td>\n",
              "      <td>0</td>\n",
              "      <td>0</td>\n",
              "      <td>0</td>\n",
              "      <td>0</td>\n",
              "      <td>0</td>\n",
              "      <td>0</td>\n",
              "      <td>0</td>\n",
              "      <td>0</td>\n",
              "      <td>0</td>\n",
              "      <td>0</td>\n",
              "      <td>0</td>\n",
              "      <td>0</td>\n",
              "      <td>0</td>\n",
              "      <td>1</td>\n",
              "      <td>0</td>\n",
              "      <td>0</td>\n",
              "    </tr>\n",
              "  </tbody>\n",
              "</table>\n",
              "<p>1 rows × 296 columns</p>\n",
              "</div>"
            ],
            "text/plain": [
              "       powerPS  kilometer  ...  brand_volvo  notRepairedDamage_yes\n",
              "25827      101     125000  ...            0                      0\n",
              "\n",
              "[1 rows x 296 columns]"
            ]
          },
          "metadata": {},
          "execution_count": 81
        }
      ]
    },
    {
      "cell_type": "code",
      "metadata": {
        "colab": {
          "base_uri": "https://localhost:8080/"
        },
        "id": "6tMmdBOd8Zj9",
        "outputId": "c48dd6bf-9a6b-4608-9c7c-26ef85d9eeff"
      },
      "source": [
        "lgr.predict(x_test[0:1])"
      ],
      "execution_count": null,
      "outputs": [
        {
          "output_type": "execute_result",
          "data": {
            "text/plain": [
              "array([7.98720393])"
            ]
          },
          "metadata": {},
          "execution_count": 82
        }
      ]
    },
    {
      "cell_type": "code",
      "metadata": {
        "colab": {
          "base_uri": "https://localhost:8080/"
        },
        "id": "NfbjH_tQ8nF5",
        "outputId": "a52724ee-149e-49b0-8d0c-d7fea5d98afd"
      },
      "source": [
        "residual=y_test[25827]-lgr.predict(x_test[0:1])\n",
        "residual"
      ],
      "execution_count": null,
      "outputs": [
        {
          "output_type": "execute_result",
          "data": {
            "text/plain": [
              "array([0.17331432])"
            ]
          },
          "metadata": {},
          "execution_count": 83
        }
      ]
    },
    {
      "cell_type": "markdown",
      "metadata": {
        "id": "dhTdg0V1DfMK"
      },
      "source": [
        "##Model Training with Imputing Missing Values"
      ]
    },
    {
      "cell_type": "code",
      "metadata": {
        "id": "7uVOtHrQBsHe"
      },
      "source": [
        "cars_imputed=cars.apply(lambda x:x.fillna(x.median()) if x.dtype=='float' else x.fillna(x.value_counts().index[0]))"
      ],
      "execution_count": null,
      "outputs": []
    },
    {
      "cell_type": "code",
      "metadata": {
        "colab": {
          "base_uri": "https://localhost:8080/"
        },
        "id": "GY7M0XWtEk7j",
        "outputId": "9a5b8762-b7e4-4ad8-dd3a-9f6c63d943c9"
      },
      "source": [
        "cars_imputed.isnull().sum()"
      ],
      "execution_count": null,
      "outputs": [
        {
          "output_type": "execute_result",
          "data": {
            "text/plain": [
              "price                0\n",
              "vehicleType          0\n",
              "gearbox              0\n",
              "powerPS              0\n",
              "model                0\n",
              "kilometer            0\n",
              "fuelType             0\n",
              "brand                0\n",
              "notRepairedDamage    0\n",
              "Age                  0\n",
              "dtype: int64"
            ]
          },
          "metadata": {},
          "execution_count": 85
        }
      ]
    },
    {
      "cell_type": "code",
      "metadata": {
        "colab": {
          "base_uri": "https://localhost:8080/"
        },
        "id": "DtbwMmmoEuO0",
        "outputId": "fa2560c2-02d3-4bb8-9337-57f45e1984ed"
      },
      "source": [
        "cars.shape"
      ],
      "execution_count": null,
      "outputs": [
        {
          "output_type": "execute_result",
          "data": {
            "text/plain": [
              "(39114, 10)"
            ]
          },
          "metadata": {},
          "execution_count": 86
        }
      ]
    },
    {
      "cell_type": "code",
      "metadata": {
        "colab": {
          "base_uri": "https://localhost:8080/"
        },
        "id": "J-1bxLXpFK6f",
        "outputId": "1407c979-29a0-4d49-801e-8dc6c980fc3b"
      },
      "source": [
        "cars_imputed.shape"
      ],
      "execution_count": null,
      "outputs": [
        {
          "output_type": "execute_result",
          "data": {
            "text/plain": [
              "(39114, 10)"
            ]
          },
          "metadata": {},
          "execution_count": 87
        }
      ]
    },
    {
      "cell_type": "code",
      "metadata": {
        "id": "OMPsg1M93kkx"
      },
      "source": [
        "cars_imputed=pd.get_dummies(cars_imputed,drop_first=True)"
      ],
      "execution_count": null,
      "outputs": []
    },
    {
      "cell_type": "code",
      "metadata": {
        "id": "Pg3TjmzRFYHB"
      },
      "source": [
        "#Seprate the input and output features\n",
        "x2=cars_imputed.drop(['price'],axis='columns',inplace=False)\n",
        "y2=cars_imputed['price']"
      ],
      "execution_count": null,
      "outputs": []
    },
    {
      "cell_type": "code",
      "metadata": {
        "colab": {
          "base_uri": "https://localhost:8080/",
          "height": 336
        },
        "id": "IfkUkY8BGdek",
        "outputId": "992616f6-028a-4b9d-912b-3de97c4956ba"
      },
      "source": [
        "#Plotting the variable price\n",
        "prices = pd.DataFrame({'1. Before':y2, '2. After':np.log(y2)})\n",
        "prices.hist()"
      ],
      "execution_count": null,
      "outputs": [
        {
          "output_type": "execute_result",
          "data": {
            "text/plain": [
              "array([[<matplotlib.axes._subplots.AxesSubplot object at 0x7fbb84140a90>,\n",
              "        <matplotlib.axes._subplots.AxesSubplot object at 0x7fbb83ad1e10>]],\n",
              "      dtype=object)"
            ]
          },
          "metadata": {},
          "execution_count": 100
        },
        {
          "output_type": "display_data",
          "data": {
            "image/png": "[encoded data removed]",
            "text/plain": [
              "<Figure size 432x288 with 2 Axes>"
            ]
          },
          "metadata": {
            "needs_background": "light"
          }
        }
      ]
    },
    {
      "cell_type": "code",
      "metadata": {
        "id": "exmLUR-THEXe"
      },
      "source": [
        "#Transformation price as a Logarithmic value\n",
        "y2=np.log(y2)"
      ],
      "execution_count": null,
      "outputs": []
    },
    {
      "cell_type": "code",
      "metadata": {
        "colab": {
          "base_uri": "https://localhost:8080/"
        },
        "id": "wyhNRN--HYnd",
        "outputId": "a0de7961-9d0d-43fa-864b-980095bd2776"
      },
      "source": [
        "#splitting data into test and train\n",
        "x_train1, x_test1, y_train1, y_test1 = train_test_split(x2,y2,test_size=0.3,random_state=3)\n",
        "print(x_train1.shape,x_test1.shape)\n",
        "print(y_train1.shape,y_test1.shape)"
      ],
      "execution_count": null,
      "outputs": [
        {
          "output_type": "stream",
          "name": "stdout",
          "text": [
            "(27379, 299) (11735, 299)\n",
            "(27379,) (11735,)\n"
          ]
        }
      ]
    },
    {
      "cell_type": "code",
      "metadata": {
        "colab": {
          "base_uri": "https://localhost:8080/"
        },
        "id": "UWTXfZ0WH54R",
        "outputId": "c6025ad0-62bd-4166-a2ff-d2648788b025"
      },
      "source": [
        "#finding the mean for the test data value\n",
        "base_pred=np.mean(y_test1)\n",
        "print(base_pred)"
      ],
      "execution_count": null,
      "outputs": [
        {
          "output_type": "stream",
          "name": "stdout",
          "text": [
            "7.895563939995915\n"
          ]
        }
      ]
    },
    {
      "cell_type": "code",
      "metadata": {
        "id": "Itpt9fc-IQt8"
      },
      "source": [
        "#Repeat the same value till length of test data\n",
        "base_pred=np.repeat(base_pred,len(y_test1))"
      ],
      "execution_count": null,
      "outputs": []
    },
    {
      "cell_type": "code",
      "metadata": {
        "id": "IhHIBM3XIvpA"
      },
      "source": [
        "#Finding the RMSE\n",
        "base_root_mean_square_error_imputed=np.sqrt(mean_squared_error(y_test1,base_pred))"
      ],
      "execution_count": null,
      "outputs": []
    },
    {
      "cell_type": "code",
      "metadata": {
        "id": "bnzijoQHI-kR"
      },
      "source": [
        "#Linear Regression with Imputed Data\n",
        "lgr2 = LinearRegression(fit_intercept=True)"
      ],
      "execution_count": null,
      "outputs": []
    },
    {
      "cell_type": "code",
      "metadata": {
        "id": "3ayYYN1K27_E"
      },
      "source": [
        "#model2\n",
        "model2=lgr2.fit(x_train1,y_train1)"
      ],
      "execution_count": null,
      "outputs": []
    },
    {
      "cell_type": "code",
      "metadata": {
        "id": "MqjH18DZ3GvR"
      },
      "source": [
        "#Predicting model on test set\n",
        "cars_pred2=lgr2.predict(x_test1)"
      ],
      "execution_count": null,
      "outputs": []
    },
    {
      "cell_type": "code",
      "metadata": {
        "colab": {
          "base_uri": "https://localhost:8080/"
        },
        "id": "dGRoVU-r4Cci",
        "outputId": "f00a3abe-9b17-4fa2-9490-e5d8a5bf0bed"
      },
      "source": [
        "#Compute the MSE and RMSE\n",
        "lin_mse2=mean_squared_error(y_test1,cars_pred2)\n",
        "lin_rmse2=np.sqrt(lin_mse2)\n",
        "print(lin_rmse2)"
      ],
      "execution_count": null,
      "outputs": [
        {
          "output_type": "stream",
          "name": "stdout",
          "text": [
            "0.6325871160656529\n"
          ]
        }
      ]
    },
    {
      "cell_type": "code",
      "metadata": {
        "colab": {
          "base_uri": "https://localhost:8080/"
        },
        "id": "su92rbZU4czF",
        "outputId": "457fca6d-4142-4788-95b6-309a1caf8eb9"
      },
      "source": [
        "#R - squared error\n",
        "r2_lin_test2=model2.score(x_test1,y_test1)\n",
        "r2_lin_train2=model2.score(x_train1,y_train1)\n",
        "print(r2_lin_test2,r2_lin_train2)"
      ],
      "execution_count": null,
      "outputs": [
        {
          "output_type": "stream",
          "name": "stdout",
          "text": [
            "0.6280547805127432 0.6301315346861612\n"
          ]
        }
      ]
    },
    {
      "cell_type": "code",
      "metadata": {
        "colab": {
          "base_uri": "https://localhost:8080/",
          "height": 431
        },
        "id": "R8plvBLw5Fn6",
        "outputId": "5fd2d1f0-e628-4310-e52d-15bee4a2980e"
      },
      "source": [
        "#Regression diagnostics - Residual Plot Analysis\n",
        "residuals2=y_test1-cars_pred2\n",
        "sns.regplot(x=cars_pred2,y=residuals2,scatter=True,fit_reg=False)\n",
        "residuals2.describe()"
      ],
      "execution_count": null,
      "outputs": [
        {
          "output_type": "execute_result",
          "data": {
            "text/plain": [
              "count   11735.000\n",
              "mean        0.002\n",
              "std         0.633\n",
              "min        -5.575\n",
              "25%        -0.321\n",
              "50%         0.061\n",
              "75%         0.399\n",
              "max         5.092\n",
              "Name: price, dtype: float64"
            ]
          },
          "metadata": {},
          "execution_count": 114
        },
        {
          "output_type": "display_data",
          "data": {
            "image/png": "[encoded data removed]",
            "text/plain": [
              "<Figure size 432x288 with 1 Axes>"
            ]
          },
          "metadata": {
            "needs_background": "light"
          }
        }
      ]
    },
    {
      "cell_type": "code",
      "metadata": {
        "id": "rJf1ST1I5jcn"
      },
      "source": [
        ""
      ],
      "execution_count": null,
      "outputs": []
    }
  ]
}